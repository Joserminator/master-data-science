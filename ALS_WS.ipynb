{
  "nbformat": 4,
  "nbformat_minor": 0,
  "metadata": {
    "colab": {
      "name": "ALS_WS.ipynb",
      "provenance": [],
      "include_colab_link": true
    },
    "kernelspec": {
      "name": "python3",
      "display_name": "Python 3"
    },
    "accelerator": "TPU"
  },
  "cells": [
    {
      "cell_type": "markdown",
      "metadata": {
        "id": "view-in-github",
        "colab_type": "text"
      },
      "source": [
        "<a href=\"https://colab.research.google.com/github/jalonsomoya/FSCLogs/blob/master/ALS_WS.ipynb\" target=\"_parent\"><img src=\"https://colab.research.google.com/assets/colab-badge.svg\" alt=\"Open In Colab\"/></a>"
      ]
    },
    {
      "cell_type": "markdown",
      "metadata": {
        "id": "3Uh33b4XJFyA"
      },
      "source": [
        "\n",
        "### Instalación y configuración de librerías y módulos\n"
      ]
    },
    {
      "cell_type": "code",
      "metadata": {
        "id": "KJh1hyIkLZaZ"
      },
      "source": [
        "# General packages\n",
        "import pandas as pd\n",
        "import os\n",
        "import matplotlib.pyplot as plt\n",
        "import seaborn as sns\n",
        "sns.set()\n",
        "\n",
        "# Install pyspark\n",
        "!apt-get install openjdk-8-jdk-headless -qq > /dev/null\n",
        "!wget -q http://apache.uvigo.es/spark/spark-2.4.8/spark-2.4.8-bin-hadoop2.7.tgz\n",
        "!tar -xf spark-2.4.8-bin-hadoop2.7.tgz\n",
        "!pip install -q findspark pyspark==2.4.8\n",
        "\n",
        "# Import modules\n",
        "import findspark\n",
        "from pyspark.sql import SparkSession, functions as F\n",
        "from pyspark.ml import Pipeline\n",
        "from pyspark.sql.types import StructType, StructField, StringType, DoubleType, IntegerType, DecimalType\n",
        "from pyspark.ml.recommendation import ALS\n",
        "from pyspark.ml.evaluation import RegressionEvaluator\n",
        "from pyspark.ml.tuning import CrossValidator, ParamGridBuilder\n",
        "\n",
        "# Set enviroment variables\n",
        "os.environ[\"JAVA_HOME\"] = \"/usr/lib/jvm/java-8-openjdk-amd64\"\n",
        "os.environ[\"SPARK_HOME\"] = \"/content/spark-2.4.8-bin-hadoop2.7\"\n",
        "findspark.init()\n",
        "spark = SparkSession.builder.master(\"local[*]\").getOrCreate()\n"
      ],
      "execution_count": 3,
      "outputs": []
    },
    {
      "cell_type": "markdown",
      "metadata": {
        "id": "HzoyPAsKapND"
      },
      "source": [
        "### Acceso a los datos compartidos vía Drive\n",
        "\n",
        "---\n",
        "\n"
      ]
    },
    {
      "cell_type": "code",
      "metadata": {
        "id": "p_vOXu23an_W",
        "colab": {
          "base_uri": "https://localhost:8080/"
        },
        "outputId": "d9f14aea-53a4-48f0-9382-ae3e033cfe1f"
      },
      "source": [
        "# Permitir acceso a contenido compartido de Google Drive\n",
        "from google.colab import drive\n",
        "drive.mount('/content/drive')"
      ],
      "execution_count": 4,
      "outputs": [
        {
          "output_type": "stream",
          "text": [
            "Mounted at /content/drive\n"
          ],
          "name": "stdout"
        }
      ]
    },
    {
      "cell_type": "code",
      "metadata": {
        "id": "SsCqdPVaa33j"
      },
      "source": [
        "# Introduce the current path of the shared file Ratings WS.zip\n",
        "path = './drive/My Drive/Colab Notebooks/'"
      ],
      "execution_count": 5,
      "outputs": []
    },
    {
      "cell_type": "code",
      "metadata": {
        "id": "iFqREU80sdZA",
        "colab": {
          "base_uri": "https://localhost:8080/"
        },
        "outputId": "22d8643c-1c81-4f5a-c6a9-579b0792871b"
      },
      "source": [
        "# Reading CSV file\n",
        "pd_data_raw = pd.read_csv(path+'Ratings WS_WSeason.zip', sep='\\t',\n",
        "                            encoding = 'UTF-8-SIG', engine = 'python', decimal=',')\n",
        "\n",
        "print('Number of rating records: ' + str(len(pd_data_raw)))\n",
        "print('Total of users: ' + str(pd_data_raw.USER_ID.nunique()))\n",
        "print('Total of patterns: ' + str(pd_data_raw.patron.nunique()))\n",
        "\n",
        "pd_data_raw.rename(columns={\"patron\":\"PATRON\"},inplace=True)"
      ],
      "execution_count": 6,
      "outputs": [
        {
          "output_type": "stream",
          "text": [
            "Number of rating records: 1650227\n",
            "Total of users: 421590\n",
            "Total of patterns: 4085\n"
          ],
          "name": "stdout"
        }
      ]
    },
    {
      "cell_type": "markdown",
      "metadata": {
        "id": "q1SZ9cj6s4C5"
      },
      "source": [
        "### Tratamiento de datos\n",
        "\n",
        "\n",
        "---\n",
        "\n",
        "\n"
      ]
    },
    {
      "cell_type": "markdown",
      "metadata": {
        "id": "rR4GKw0OtB35"
      },
      "source": [
        "Transformar los usuarios y los items en enteros consecutivos sin duplicados"
      ]
    },
    {
      "cell_type": "code",
      "metadata": {
        "id": "DsweeQWqtBJ7",
        "colab": {
          "base_uri": "https://localhost:8080/",
          "height": 423
        },
        "outputId": "4a06027b-5486-47e2-d225-3a4e3424c4a3"
      },
      "source": [
        "pd_user = pd.DataFrame(pd_data_raw[\"USER_ID\"])\n",
        "pd_user.drop_duplicates(inplace=True)\n",
        "pd_user['rowid'] = pd_user.reset_index().index+1\n",
        "pd_user"
      ],
      "execution_count": 7,
      "outputs": [
        {
          "output_type": "execute_result",
          "data": {
            "text/html": [
              "<div>\n",
              "<style scoped>\n",
              "    .dataframe tbody tr th:only-of-type {\n",
              "        vertical-align: middle;\n",
              "    }\n",
              "\n",
              "    .dataframe tbody tr th {\n",
              "        vertical-align: top;\n",
              "    }\n",
              "\n",
              "    .dataframe thead th {\n",
              "        text-align: right;\n",
              "    }\n",
              "</style>\n",
              "<table border=\"1\" class=\"dataframe\">\n",
              "  <thead>\n",
              "    <tr style=\"text-align: right;\">\n",
              "      <th></th>\n",
              "      <th>USER_ID</th>\n",
              "      <th>rowid</th>\n",
              "    </tr>\n",
              "  </thead>\n",
              "  <tbody>\n",
              "    <tr>\n",
              "      <th>0</th>\n",
              "      <td>526921</td>\n",
              "      <td>1</td>\n",
              "    </tr>\n",
              "    <tr>\n",
              "      <th>1</th>\n",
              "      <td>971890</td>\n",
              "      <td>2</td>\n",
              "    </tr>\n",
              "    <tr>\n",
              "      <th>2</th>\n",
              "      <td>2712279</td>\n",
              "      <td>3</td>\n",
              "    </tr>\n",
              "    <tr>\n",
              "      <th>3</th>\n",
              "      <td>1659469</td>\n",
              "      <td>4</td>\n",
              "    </tr>\n",
              "    <tr>\n",
              "      <th>4</th>\n",
              "      <td>1184805</td>\n",
              "      <td>5</td>\n",
              "    </tr>\n",
              "    <tr>\n",
              "      <th>...</th>\n",
              "      <td>...</td>\n",
              "      <td>...</td>\n",
              "    </tr>\n",
              "    <tr>\n",
              "      <th>1650118</th>\n",
              "      <td>1046016</td>\n",
              "      <td>421586</td>\n",
              "    </tr>\n",
              "    <tr>\n",
              "      <th>1650122</th>\n",
              "      <td>2882297</td>\n",
              "      <td>421587</td>\n",
              "    </tr>\n",
              "    <tr>\n",
              "      <th>1650124</th>\n",
              "      <td>378108</td>\n",
              "      <td>421588</td>\n",
              "    </tr>\n",
              "    <tr>\n",
              "      <th>1650132</th>\n",
              "      <td>1115390</td>\n",
              "      <td>421589</td>\n",
              "    </tr>\n",
              "    <tr>\n",
              "      <th>1650198</th>\n",
              "      <td>1144853</td>\n",
              "      <td>421590</td>\n",
              "    </tr>\n",
              "  </tbody>\n",
              "</table>\n",
              "<p>421590 rows × 2 columns</p>\n",
              "</div>"
            ],
            "text/plain": [
              "         USER_ID   rowid\n",
              "0         526921       1\n",
              "1         971890       2\n",
              "2        2712279       3\n",
              "3        1659469       4\n",
              "4        1184805       5\n",
              "...          ...     ...\n",
              "1650118  1046016  421586\n",
              "1650122  2882297  421587\n",
              "1650124   378108  421588\n",
              "1650132  1115390  421589\n",
              "1650198  1144853  421590\n",
              "\n",
              "[421590 rows x 2 columns]"
            ]
          },
          "metadata": {
            "tags": []
          },
          "execution_count": 7
        }
      ]
    },
    {
      "cell_type": "code",
      "metadata": {
        "id": "OnATvb5Dtagi",
        "colab": {
          "base_uri": "https://localhost:8080/",
          "height": 423
        },
        "outputId": "69f7de84-18c2-4bf3-8e4b-4582f8424435"
      },
      "source": [
        "pd_pat = pd.DataFrame(pd_data_raw[\"PATRON\"])\n",
        "pd_pat.drop_duplicates(inplace=True)\n",
        "pd_pat['rowid2'] = pd_pat.reset_index().index+1\n",
        "pd_pat"
      ],
      "execution_count": 8,
      "outputs": [
        {
          "output_type": "execute_result",
          "data": {
            "text/html": [
              "<div>\n",
              "<style scoped>\n",
              "    .dataframe tbody tr th:only-of-type {\n",
              "        vertical-align: middle;\n",
              "    }\n",
              "\n",
              "    .dataframe tbody tr th {\n",
              "        vertical-align: top;\n",
              "    }\n",
              "\n",
              "    .dataframe thead th {\n",
              "        text-align: right;\n",
              "    }\n",
              "</style>\n",
              "<table border=\"1\" class=\"dataframe\">\n",
              "  <thead>\n",
              "    <tr style=\"text-align: right;\">\n",
              "      <th></th>\n",
              "      <th>PATRON</th>\n",
              "      <th>rowid2</th>\n",
              "    </tr>\n",
              "  </thead>\n",
              "  <tbody>\n",
              "    <tr>\n",
              "      <th>0</th>\n",
              "      <td>7899645</td>\n",
              "      <td>1</td>\n",
              "    </tr>\n",
              "    <tr>\n",
              "      <th>1</th>\n",
              "      <td>4039661</td>\n",
              "      <td>2</td>\n",
              "    </tr>\n",
              "    <tr>\n",
              "      <th>2</th>\n",
              "      <td>4858530</td>\n",
              "      <td>3</td>\n",
              "    </tr>\n",
              "    <tr>\n",
              "      <th>3</th>\n",
              "      <td>4667662</td>\n",
              "      <td>4</td>\n",
              "    </tr>\n",
              "    <tr>\n",
              "      <th>4</th>\n",
              "      <td>4509870</td>\n",
              "      <td>5</td>\n",
              "    </tr>\n",
              "    <tr>\n",
              "      <th>...</th>\n",
              "      <td>...</td>\n",
              "      <td>...</td>\n",
              "    </tr>\n",
              "    <tr>\n",
              "      <th>1647225</th>\n",
              "      <td>4998871</td>\n",
              "      <td>4081</td>\n",
              "    </tr>\n",
              "    <tr>\n",
              "      <th>1649401</th>\n",
              "      <td>3549283</td>\n",
              "      <td>4082</td>\n",
              "    </tr>\n",
              "    <tr>\n",
              "      <th>1649482</th>\n",
              "      <td>4217470</td>\n",
              "      <td>4083</td>\n",
              "    </tr>\n",
              "    <tr>\n",
              "      <th>1649731</th>\n",
              "      <td>4847555</td>\n",
              "      <td>4084</td>\n",
              "    </tr>\n",
              "    <tr>\n",
              "      <th>1649753</th>\n",
              "      <td>4448952</td>\n",
              "      <td>4085</td>\n",
              "    </tr>\n",
              "  </tbody>\n",
              "</table>\n",
              "<p>4085 rows × 2 columns</p>\n",
              "</div>"
            ],
            "text/plain": [
              "          PATRON  rowid2\n",
              "0        7899645       1\n",
              "1        4039661       2\n",
              "2        4858530       3\n",
              "3        4667662       4\n",
              "4        4509870       5\n",
              "...          ...     ...\n",
              "1647225  4998871    4081\n",
              "1649401  3549283    4082\n",
              "1649482  4217470    4083\n",
              "1649731  4847555    4084\n",
              "1649753  4448952    4085\n",
              "\n",
              "[4085 rows x 2 columns]"
            ]
          },
          "metadata": {
            "tags": []
          },
          "execution_count": 8
        }
      ]
    },
    {
      "cell_type": "markdown",
      "metadata": {
        "id": "5sazU0Wqtg4c"
      },
      "source": [
        "Aplicar los cambios y renombrar las columnas"
      ]
    },
    {
      "cell_type": "code",
      "metadata": {
        "id": "f512pa3__3Jl",
        "colab": {
          "base_uri": "https://localhost:8080/",
          "height": 206
        },
        "outputId": "611375c3-40d7-489a-b247-d72c5de45137"
      },
      "source": [
        "pd_data_raw = pd.merge(pd_data_raw, pd_user, on='USER_ID',how='left')\n",
        "pd_data_raw = pd.merge(pd_data_raw, pd_pat, on='PATRON',how='left')\n",
        "pd_data_raw.rename(columns={\"rowid\":\"user\"},inplace=True)\n",
        "pd_data_raw.rename(columns={\"rowid2\":\"patron\"},inplace=True)\n",
        "\n",
        "pd_data_raw.head()"
      ],
      "execution_count": 9,
      "outputs": [
        {
          "output_type": "execute_result",
          "data": {
            "text/html": [
              "<div>\n",
              "<style scoped>\n",
              "    .dataframe tbody tr th:only-of-type {\n",
              "        vertical-align: middle;\n",
              "    }\n",
              "\n",
              "    .dataframe tbody tr th {\n",
              "        vertical-align: top;\n",
              "    }\n",
              "\n",
              "    .dataframe thead th {\n",
              "        text-align: right;\n",
              "    }\n",
              "</style>\n",
              "<table border=\"1\" class=\"dataframe\">\n",
              "  <thead>\n",
              "    <tr style=\"text-align: right;\">\n",
              "      <th></th>\n",
              "      <th>USER_ID</th>\n",
              "      <th>PATRON</th>\n",
              "      <th>rating</th>\n",
              "      <th>user</th>\n",
              "      <th>patron</th>\n",
              "    </tr>\n",
              "  </thead>\n",
              "  <tbody>\n",
              "    <tr>\n",
              "      <th>0</th>\n",
              "      <td>526921</td>\n",
              "      <td>7899645</td>\n",
              "      <td>9.5</td>\n",
              "      <td>1</td>\n",
              "      <td>1</td>\n",
              "    </tr>\n",
              "    <tr>\n",
              "      <th>1</th>\n",
              "      <td>971890</td>\n",
              "      <td>4039661</td>\n",
              "      <td>9.5</td>\n",
              "      <td>2</td>\n",
              "      <td>2</td>\n",
              "    </tr>\n",
              "    <tr>\n",
              "      <th>2</th>\n",
              "      <td>2712279</td>\n",
              "      <td>4858530</td>\n",
              "      <td>7.0</td>\n",
              "      <td>3</td>\n",
              "      <td>3</td>\n",
              "    </tr>\n",
              "    <tr>\n",
              "      <th>3</th>\n",
              "      <td>1659469</td>\n",
              "      <td>4667662</td>\n",
              "      <td>9.5</td>\n",
              "      <td>4</td>\n",
              "      <td>4</td>\n",
              "    </tr>\n",
              "    <tr>\n",
              "      <th>4</th>\n",
              "      <td>1184805</td>\n",
              "      <td>4509870</td>\n",
              "      <td>9.5</td>\n",
              "      <td>5</td>\n",
              "      <td>5</td>\n",
              "    </tr>\n",
              "  </tbody>\n",
              "</table>\n",
              "</div>"
            ],
            "text/plain": [
              "   USER_ID   PATRON  rating  user  patron\n",
              "0   526921  7899645     9.5     1       1\n",
              "1   971890  4039661     9.5     2       2\n",
              "2  2712279  4858530     7.0     3       3\n",
              "3  1659469  4667662     9.5     4       4\n",
              "4  1184805  4509870     9.5     5       5"
            ]
          },
          "metadata": {
            "tags": []
          },
          "execution_count": 9
        }
      ]
    },
    {
      "cell_type": "code",
      "metadata": {
        "id": "07EIXHMEtdHt",
        "colab": {
          "base_uri": "https://localhost:8080/",
          "height": 423
        },
        "outputId": "6e784841-9b4b-4ff7-f658-1fd220c6d1a0"
      },
      "source": [
        "pd_data_WS = pd.merge(pd_data_raw, pd_user, on='USER_ID',how='left')\n",
        "pd_data_WS = pd.merge(pd_data_WS, pd_pat, on='PATRON',how='left')\n",
        "pd_data_WS.rename(columns={\"RATING\":\"rating\"},inplace=True)\n",
        "pd_data_WS = pd_data_WS[['rowid','rowid2','rating']]\n",
        "pd_data_WS.rename(columns={\"rowid\":\"user\"},inplace=True)\n",
        "pd_data_WS.rename(columns={\"rowid2\":\"patron\"},inplace=True)\n",
        "pd_data_WS"
      ],
      "execution_count": 10,
      "outputs": [
        {
          "output_type": "execute_result",
          "data": {
            "text/html": [
              "<div>\n",
              "<style scoped>\n",
              "    .dataframe tbody tr th:only-of-type {\n",
              "        vertical-align: middle;\n",
              "    }\n",
              "\n",
              "    .dataframe tbody tr th {\n",
              "        vertical-align: top;\n",
              "    }\n",
              "\n",
              "    .dataframe thead th {\n",
              "        text-align: right;\n",
              "    }\n",
              "</style>\n",
              "<table border=\"1\" class=\"dataframe\">\n",
              "  <thead>\n",
              "    <tr style=\"text-align: right;\">\n",
              "      <th></th>\n",
              "      <th>user</th>\n",
              "      <th>patron</th>\n",
              "      <th>rating</th>\n",
              "    </tr>\n",
              "  </thead>\n",
              "  <tbody>\n",
              "    <tr>\n",
              "      <th>0</th>\n",
              "      <td>1</td>\n",
              "      <td>1</td>\n",
              "      <td>9.5</td>\n",
              "    </tr>\n",
              "    <tr>\n",
              "      <th>1</th>\n",
              "      <td>2</td>\n",
              "      <td>2</td>\n",
              "      <td>9.5</td>\n",
              "    </tr>\n",
              "    <tr>\n",
              "      <th>2</th>\n",
              "      <td>3</td>\n",
              "      <td>3</td>\n",
              "      <td>7.0</td>\n",
              "    </tr>\n",
              "    <tr>\n",
              "      <th>3</th>\n",
              "      <td>4</td>\n",
              "      <td>4</td>\n",
              "      <td>9.5</td>\n",
              "    </tr>\n",
              "    <tr>\n",
              "      <th>4</th>\n",
              "      <td>5</td>\n",
              "      <td>5</td>\n",
              "      <td>9.5</td>\n",
              "    </tr>\n",
              "    <tr>\n",
              "      <th>...</th>\n",
              "      <td>...</td>\n",
              "      <td>...</td>\n",
              "      <td>...</td>\n",
              "    </tr>\n",
              "    <tr>\n",
              "      <th>1650222</th>\n",
              "      <td>32927</td>\n",
              "      <td>4085</td>\n",
              "      <td>9.5</td>\n",
              "    </tr>\n",
              "    <tr>\n",
              "      <th>1650223</th>\n",
              "      <td>327965</td>\n",
              "      <td>4085</td>\n",
              "      <td>9.5</td>\n",
              "    </tr>\n",
              "    <tr>\n",
              "      <th>1650224</th>\n",
              "      <td>349444</td>\n",
              "      <td>4085</td>\n",
              "      <td>7.0</td>\n",
              "    </tr>\n",
              "    <tr>\n",
              "      <th>1650225</th>\n",
              "      <td>12144</td>\n",
              "      <td>4085</td>\n",
              "      <td>9.5</td>\n",
              "    </tr>\n",
              "    <tr>\n",
              "      <th>1650226</th>\n",
              "      <td>81736</td>\n",
              "      <td>4085</td>\n",
              "      <td>10.0</td>\n",
              "    </tr>\n",
              "  </tbody>\n",
              "</table>\n",
              "<p>1650227 rows × 3 columns</p>\n",
              "</div>"
            ],
            "text/plain": [
              "           user  patron  rating\n",
              "0             1       1     9.5\n",
              "1             2       2     9.5\n",
              "2             3       3     7.0\n",
              "3             4       4     9.5\n",
              "4             5       5     9.5\n",
              "...         ...     ...     ...\n",
              "1650222   32927    4085     9.5\n",
              "1650223  327965    4085     9.5\n",
              "1650224  349444    4085     7.0\n",
              "1650225   12144    4085     9.5\n",
              "1650226   81736    4085    10.0\n",
              "\n",
              "[1650227 rows x 3 columns]"
            ]
          },
          "metadata": {
            "tags": []
          },
          "execution_count": 10
        }
      ]
    },
    {
      "cell_type": "markdown",
      "metadata": {
        "id": "jSe25-U-uVPB"
      },
      "source": [
        "Crear las columnas de Items y Ratings\n"
      ]
    },
    {
      "cell_type": "code",
      "metadata": {
        "id": "iehA8-nguWg9",
        "colab": {
          "base_uri": "https://localhost:8080/",
          "height": 423
        },
        "outputId": "69bdec03-f6ee-4386-c741-9e04ac3a3e14"
      },
      "source": [
        "pd_items = pd_data_WS[['patron','rating']] \\\n",
        "                .groupby(['patron'])['rating'] \\\n",
        "                .mean().reset_index(name='rating') \\\n",
        "                .sort_values('rating', ascending =False)\n",
        "pd_items"
      ],
      "execution_count": 11,
      "outputs": [
        {
          "output_type": "execute_result",
          "data": {
            "text/html": [
              "<div>\n",
              "<style scoped>\n",
              "    .dataframe tbody tr th:only-of-type {\n",
              "        vertical-align: middle;\n",
              "    }\n",
              "\n",
              "    .dataframe tbody tr th {\n",
              "        vertical-align: top;\n",
              "    }\n",
              "\n",
              "    .dataframe thead th {\n",
              "        text-align: right;\n",
              "    }\n",
              "</style>\n",
              "<table border=\"1\" class=\"dataframe\">\n",
              "  <thead>\n",
              "    <tr style=\"text-align: right;\">\n",
              "      <th></th>\n",
              "      <th>patron</th>\n",
              "      <th>rating</th>\n",
              "    </tr>\n",
              "  </thead>\n",
              "  <tbody>\n",
              "    <tr>\n",
              "      <th>155</th>\n",
              "      <td>156</td>\n",
              "      <td>10.00</td>\n",
              "    </tr>\n",
              "    <tr>\n",
              "      <th>2433</th>\n",
              "      <td>2434</td>\n",
              "      <td>9.75</td>\n",
              "    </tr>\n",
              "    <tr>\n",
              "      <th>1390</th>\n",
              "      <td>1391</td>\n",
              "      <td>9.75</td>\n",
              "    </tr>\n",
              "    <tr>\n",
              "      <th>2278</th>\n",
              "      <td>2279</td>\n",
              "      <td>9.75</td>\n",
              "    </tr>\n",
              "    <tr>\n",
              "      <th>3403</th>\n",
              "      <td>3404</td>\n",
              "      <td>9.75</td>\n",
              "    </tr>\n",
              "    <tr>\n",
              "      <th>...</th>\n",
              "      <td>...</td>\n",
              "      <td>...</td>\n",
              "    </tr>\n",
              "    <tr>\n",
              "      <th>1156</th>\n",
              "      <td>1157</td>\n",
              "      <td>7.00</td>\n",
              "    </tr>\n",
              "    <tr>\n",
              "      <th>739</th>\n",
              "      <td>740</td>\n",
              "      <td>7.00</td>\n",
              "    </tr>\n",
              "    <tr>\n",
              "      <th>3172</th>\n",
              "      <td>3173</td>\n",
              "      <td>7.00</td>\n",
              "    </tr>\n",
              "    <tr>\n",
              "      <th>1778</th>\n",
              "      <td>1779</td>\n",
              "      <td>7.00</td>\n",
              "    </tr>\n",
              "    <tr>\n",
              "      <th>4007</th>\n",
              "      <td>4008</td>\n",
              "      <td>7.00</td>\n",
              "    </tr>\n",
              "  </tbody>\n",
              "</table>\n",
              "<p>4085 rows × 2 columns</p>\n",
              "</div>"
            ],
            "text/plain": [
              "      patron  rating\n",
              "155      156   10.00\n",
              "2433    2434    9.75\n",
              "1390    1391    9.75\n",
              "2278    2279    9.75\n",
              "3403    3404    9.75\n",
              "...      ...     ...\n",
              "1156    1157    7.00\n",
              "739      740    7.00\n",
              "3172    3173    7.00\n",
              "1778    1779    7.00\n",
              "4007    4008    7.00\n",
              "\n",
              "[4085 rows x 2 columns]"
            ]
          },
          "metadata": {
            "tags": []
          },
          "execution_count": 11
        }
      ]
    },
    {
      "cell_type": "code",
      "metadata": {
        "id": "xDAoIwARueTJ",
        "colab": {
          "base_uri": "https://localhost:8080/",
          "height": 423
        },
        "outputId": "97195f7e-0957-41c3-fe4a-ed3cf7936abe"
      },
      "source": [
        "pd_ratings = pd_data_WS[['user','patron','rating']]\n",
        "pd_ratings['rating'] = pd_ratings[['rating']].astype(float)\n",
        "pd_ratings"
      ],
      "execution_count": 12,
      "outputs": [
        {
          "output_type": "execute_result",
          "data": {
            "text/html": [
              "<div>\n",
              "<style scoped>\n",
              "    .dataframe tbody tr th:only-of-type {\n",
              "        vertical-align: middle;\n",
              "    }\n",
              "\n",
              "    .dataframe tbody tr th {\n",
              "        vertical-align: top;\n",
              "    }\n",
              "\n",
              "    .dataframe thead th {\n",
              "        text-align: right;\n",
              "    }\n",
              "</style>\n",
              "<table border=\"1\" class=\"dataframe\">\n",
              "  <thead>\n",
              "    <tr style=\"text-align: right;\">\n",
              "      <th></th>\n",
              "      <th>user</th>\n",
              "      <th>patron</th>\n",
              "      <th>rating</th>\n",
              "    </tr>\n",
              "  </thead>\n",
              "  <tbody>\n",
              "    <tr>\n",
              "      <th>0</th>\n",
              "      <td>1</td>\n",
              "      <td>1</td>\n",
              "      <td>9.5</td>\n",
              "    </tr>\n",
              "    <tr>\n",
              "      <th>1</th>\n",
              "      <td>2</td>\n",
              "      <td>2</td>\n",
              "      <td>9.5</td>\n",
              "    </tr>\n",
              "    <tr>\n",
              "      <th>2</th>\n",
              "      <td>3</td>\n",
              "      <td>3</td>\n",
              "      <td>7.0</td>\n",
              "    </tr>\n",
              "    <tr>\n",
              "      <th>3</th>\n",
              "      <td>4</td>\n",
              "      <td>4</td>\n",
              "      <td>9.5</td>\n",
              "    </tr>\n",
              "    <tr>\n",
              "      <th>4</th>\n",
              "      <td>5</td>\n",
              "      <td>5</td>\n",
              "      <td>9.5</td>\n",
              "    </tr>\n",
              "    <tr>\n",
              "      <th>...</th>\n",
              "      <td>...</td>\n",
              "      <td>...</td>\n",
              "      <td>...</td>\n",
              "    </tr>\n",
              "    <tr>\n",
              "      <th>1650222</th>\n",
              "      <td>32927</td>\n",
              "      <td>4085</td>\n",
              "      <td>9.5</td>\n",
              "    </tr>\n",
              "    <tr>\n",
              "      <th>1650223</th>\n",
              "      <td>327965</td>\n",
              "      <td>4085</td>\n",
              "      <td>9.5</td>\n",
              "    </tr>\n",
              "    <tr>\n",
              "      <th>1650224</th>\n",
              "      <td>349444</td>\n",
              "      <td>4085</td>\n",
              "      <td>7.0</td>\n",
              "    </tr>\n",
              "    <tr>\n",
              "      <th>1650225</th>\n",
              "      <td>12144</td>\n",
              "      <td>4085</td>\n",
              "      <td>9.5</td>\n",
              "    </tr>\n",
              "    <tr>\n",
              "      <th>1650226</th>\n",
              "      <td>81736</td>\n",
              "      <td>4085</td>\n",
              "      <td>10.0</td>\n",
              "    </tr>\n",
              "  </tbody>\n",
              "</table>\n",
              "<p>1650227 rows × 3 columns</p>\n",
              "</div>"
            ],
            "text/plain": [
              "           user  patron  rating\n",
              "0             1       1     9.5\n",
              "1             2       2     9.5\n",
              "2             3       3     7.0\n",
              "3             4       4     9.5\n",
              "4             5       5     9.5\n",
              "...         ...     ...     ...\n",
              "1650222   32927    4085     9.5\n",
              "1650223  327965    4085     9.5\n",
              "1650224  349444    4085     7.0\n",
              "1650225   12144    4085     9.5\n",
              "1650226   81736    4085    10.0\n",
              "\n",
              "[1650227 rows x 3 columns]"
            ]
          },
          "metadata": {
            "tags": []
          },
          "execution_count": 12
        }
      ]
    },
    {
      "cell_type": "markdown",
      "metadata": {
        "id": "hkQYoI-4u_MA"
      },
      "source": [
        "### Spark DataFrame\n",
        "\n",
        "\n",
        "---\n",
        "\n"
      ]
    },
    {
      "cell_type": "markdown",
      "metadata": {
        "id": "0Q_SJAXEvIVT"
      },
      "source": [
        "Definir la estructura para el SparkDataFrame"
      ]
    },
    {
      "cell_type": "code",
      "metadata": {
        "id": "hGS4_SDgvFSY",
        "colab": {
          "base_uri": "https://localhost:8080/"
        },
        "outputId": "f9bc56fe-0170-431b-d4ec-e4fa0c59ce6d"
      },
      "source": [
        "# Ratings structure\n",
        "schema = StructType([StructField(\"user\", IntegerType(), True),\n",
        "                     StructField(\"patron\", IntegerType(), True),\n",
        "                     StructField(\"rating\", DoubleType(), True)])\n",
        "\n",
        "df_ratings = spark.createDataFrame(pd_ratings, schema=schema)\n",
        "df_ratings.show(25)"
      ],
      "execution_count": 15,
      "outputs": [
        {
          "output_type": "stream",
          "text": [
            "+----+------+------+\n",
            "|user|patron|rating|\n",
            "+----+------+------+\n",
            "|   1|     1|   9.5|\n",
            "|   2|     2|   9.5|\n",
            "|   3|     3|   7.0|\n",
            "|   4|     4|   9.5|\n",
            "|   5|     5|   9.5|\n",
            "|   6|     6|   9.5|\n",
            "|   7|     7|   9.5|\n",
            "|   8|     8|   9.5|\n",
            "|   9|     9|   9.5|\n",
            "|  10|    10|   9.5|\n",
            "|  11|    11|   9.5|\n",
            "|  12|    12|   7.0|\n",
            "|  13|    13|   9.5|\n",
            "|  14|    14|  10.0|\n",
            "|  15|    15|   7.0|\n",
            "|  16|    16|   9.5|\n",
            "|  17|    17|   9.5|\n",
            "|  18|    18|   9.5|\n",
            "|  19|    19|   9.5|\n",
            "|  20|    20|   9.5|\n",
            "|  21|    21|   9.5|\n",
            "|  22|    22|   9.5|\n",
            "|  23|    23|   9.5|\n",
            "|  24|    24|   9.5|\n",
            "|  25|    25|   9.5|\n",
            "+----+------+------+\n",
            "only showing top 25 rows\n",
            "\n"
          ],
          "name": "stdout"
        }
      ]
    },
    {
      "cell_type": "code",
      "metadata": {
        "colab": {
          "base_uri": "https://localhost:8080/"
        },
        "id": "YEss_vJfO54h",
        "outputId": "83717e16-0569-4f94-c3c2-b9e8cd3f4892"
      },
      "source": [
        "def get_mat_sparsity(ratings):\n",
        "    # Count the total number of ratings in the dataset\n",
        "    count_nonzero = df_ratings.select(\"rating\").count()\n",
        "\n",
        "    # Count the number of distinct userIds and distinct movieIds\n",
        "    total_elements = df_ratings.select(\"user\").distinct().count() * df_ratings.select(\"patron\").distinct().count()\n",
        "\n",
        "    # Divide the numerator by the denominator\n",
        "    sparsity = (1.0 - (count_nonzero *1.0)/total_elements)*100\n",
        "    print(\"The ratings dataframe is \", \"%.4f\" % sparsity + \"% sparse.\")\n",
        "    \n",
        "get_mat_sparsity(df_ratings)"
      ],
      "execution_count": 16,
      "outputs": [
        {
          "output_type": "stream",
          "text": [
            "The ratings dataframe is  99.9042% sparse.\n"
          ],
          "name": "stdout"
        }
      ]
    },
    {
      "cell_type": "code",
      "metadata": {
        "id": "T9AZ095DvR1z",
        "colab": {
          "base_uri": "https://localhost:8080/",
          "height": 223
        },
        "outputId": "0ec65d56-ab54-4feb-c9aa-7fcaa7043051"
      },
      "source": [
        "# Items structure\n",
        "schema = StructType([StructField(\"patron\", IntegerType(), True),\n",
        "                     StructField(\"rating\", DoubleType(), True)])\n",
        "\n",
        "df_items = spark.createDataFrame(pd_items, schema=schema)\n",
        "df_items.show(5, False)"
      ],
      "execution_count": null,
      "outputs": [
        {
          "output_type": "stream",
          "text": [
            "+------+-----------------+\n",
            "|patron|rating           |\n",
            "+------+-----------------+\n",
            "|2951  |9.75             |\n",
            "|7204  |9.7              |\n",
            "|9638  |9.666666666666666|\n",
            "|4757  |9.666666666666666|\n",
            "|6771  |9.642857142857142|\n",
            "+------+-----------------+\n",
            "only showing top 5 rows\n",
            "\n"
          ],
          "name": "stdout"
        }
      ]
    },
    {
      "cell_type": "code",
      "metadata": {
        "id": "YIsPk1dBkVS5",
        "colab": {
          "base_uri": "https://localhost:8080/",
          "height": 223
        },
        "outputId": "682ceeb6-dd92-4cfd-8971-b41e9ff1d379"
      },
      "source": [
        "# Normalize rating column\n",
        "min_rating = 0\n",
        "max_rating = 10\n",
        "df_ratings = df_ratings.withColumn('norm_rating', (df_ratings.rating-min_rating)/(max_rating-min_rating))\n",
        "df = df_ratings\\\n",
        "     .select(\"user\",\"patron\",\"norm_rating\")\\\n",
        "     .withColumnRenamed(\"norm_rating\", \"label\")\n",
        "df.show(5)"
      ],
      "execution_count": null,
      "outputs": [
        {
          "output_type": "stream",
          "text": [
            "+----+------+-----+\n",
            "|user|patron|label|\n",
            "+----+------+-----+\n",
            "|   1|     1| 0.95|\n",
            "|   2|     2| 0.95|\n",
            "|   3|     3| 0.95|\n",
            "|   4|     4| 0.95|\n",
            "|   5|     5| 0.95|\n",
            "+----+------+-----+\n",
            "only showing top 5 rows\n",
            "\n"
          ],
          "name": "stdout"
        }
      ]
    },
    {
      "cell_type": "markdown",
      "metadata": {
        "id": "qBLPVGcLvpa0"
      },
      "source": [
        "### ALS Model"
      ]
    },
    {
      "cell_type": "markdown",
      "metadata": {
        "id": "YdNiB2U8vvcr"
      },
      "source": [
        "Split & training the model"
      ]
    },
    {
      "cell_type": "code",
      "metadata": {
        "id": "HpSWZeKWVuYZ"
      },
      "source": [
        "(training, test) = df.randomSplit([0.8, 0.2])\n",
        "cv_data = training.withColumnRenamed(\"rating\", \"label\")"
      ],
      "execution_count": null,
      "outputs": []
    },
    {
      "cell_type": "code",
      "metadata": {
        "id": "ZLcrhPIjbpNS",
        "colab": {
          "base_uri": "https://localhost:8080/",
          "height": 223
        },
        "outputId": "3871d83b-1ee9-42dd-a1b5-fd6e2076b390"
      },
      "source": [
        "cv_data.show(5)"
      ],
      "execution_count": null,
      "outputs": [
        {
          "output_type": "stream",
          "text": [
            "+----+------+-----+\n",
            "|user|patron|label|\n",
            "+----+------+-----+\n",
            "|   1|     1| 0.95|\n",
            "|   1|   762| 0.95|\n",
            "|   1|   975| 0.95|\n",
            "|   1|  1343| 0.95|\n",
            "|   1|  1464| 0.95|\n",
            "+----+------+-----+\n",
            "only showing top 5 rows\n",
            "\n"
          ],
          "name": "stdout"
        }
      ]
    },
    {
      "cell_type": "markdown",
      "metadata": {
        "id": "EV7zviJ5CdfQ"
      },
      "source": [
        "**Note: ** This execution is optional, user could skip it with no further issues in next cells.\n",
        "\n",
        "*We tried many hyperparams grids and we choose the ones who minimize the Root-mean-square error (RMSE) evaluator. There is an example of Tuning selecting orientative params. Few cells later we'll be able to extract which params were the best.\n",
        "Due to the duration of the ml tuning, we set a \"beep\" alert when the execution finish*"
      ]
    },
    {
      "cell_type": "code",
      "metadata": {
        "id": "eDEGEQ7aRE40"
      },
      "source": [
        "# Set model\n",
        "als = ALS(userCol=\"user\", itemCol=\"patron\", ratingCol=\"label\", seed=0, nonnegative=True)\n",
        "\n",
        "# Set considered parameter grid\n",
        "paramGrid = ParamGridBuilder().addGrid(als.regParam, [0.15, 0.18, 0.2]) \\\n",
        "                              .addGrid(als.maxIter, [15, 20]) \\\n",
        "                              .addGrid(als.rank, [ 8, 10, 15, 20]).build()\n",
        "\n",
        "# Set evaluator\n",
        "modelEvaluator = RegressionEvaluator(metricName=\"rmse\")\n",
        "# Set cross validator instance\n",
        "crossval = CrossValidator(estimator=als,\n",
        "                          estimatorParamMaps=paramGrid,\n",
        "                          evaluator=modelEvaluator,\n",
        "                          numFolds=10)\n",
        "\n",
        "# Perform cross-validation\n",
        "cvModel = crossval.fit(cv_data)\n",
        "\n",
        "best_als_model = cvModel.bestModel\n",
        "\n",
        "print(\"Best number of latent factors (rank parameter): \" + str(best_als_model.rank))\n",
        "print(\"Best value of regularization factor: \" + str(best_als_model._java_obj.parent().getRegParam()))\n",
        "print(\"Max Iterations: \" + str(best_als_model._java_obj.parent().getMaxIter()))\n",
        "\n",
        "import time\n",
        "time.sleep(2)\n",
        "\n",
        "# Play an audio beep. Any audio URL will do.\n",
        "from google.colab import output\n",
        "output.eval_js('new Audio(\"https://upload.wikimedia.org/wikipedia/commons/0/05/Beep-09.ogg\").play()')"
      ],
      "execution_count": null,
      "outputs": []
    },
    {
      "cell_type": "code",
      "metadata": {
        "id": "sXs32HbtEDxv",
        "colab": {
          "base_uri": "https://localhost:8080/",
          "height": 54
        },
        "outputId": "fcbf75c2-fc97-46a9-ebb5-293bf760ff16"
      },
      "source": [
        "%%time\n",
        "(training, test) = cv_data.randomSplit([0.8, 0.2])\n",
        "# Entrenamos con training set\n",
        "als = ALS(maxIter=15, regParam=0.15, rank=10, userCol=\"user\",\n",
        "          itemCol=\"patron\", ratingCol=\"label\", seed=0, nonnegative=True)\n",
        "\n",
        "model = als.fit(training)\n",
        "predictions = model.transform(test)\n",
        "\n"
      ],
      "execution_count": null,
      "outputs": [
        {
          "output_type": "stream",
          "text": [
            "CPU times: user 75.7 ms, sys: 19.4 ms, total: 95.1 ms\n",
            "Wall time: 2min 15s\n"
          ],
          "name": "stdout"
        }
      ]
    },
    {
      "cell_type": "markdown",
      "metadata": {
        "id": "66McMU9LwS0c"
      },
      "source": [
        "Testing and evaluation"
      ]
    },
    {
      "cell_type": "code",
      "metadata": {
        "id": "QVpHe8q76ksM"
      },
      "source": [
        "# Evaluate model's performance on test (evaluate overfitting)\n",
        "def test_evaluation(predictions):\n",
        "    # Model evaluation in test - ratings regression evaluation\n",
        "    print(\"Model evaluation on test data:\")\n",
        "    predictions = predictions.na.drop()\n",
        "    \n",
        "    # RMSE\n",
        "    rmse_evaluator = RegressionEvaluator(metricName=\"rmse\", labelCol=\"label\", predictionCol=\"prediction\")\n",
        "    rmse = rmse_evaluator.evaluate(predictions)\n",
        "    print(\"Root-mean-square error (RMSE) = \" + str(rmse))\n",
        "    # MSE\n",
        "    mse_evaluator = RegressionEvaluator(metricName=\"mse\", labelCol=\"label\", predictionCol=\"prediction\")\n",
        "    mse = mse_evaluator.evaluate(predictions)\n",
        "    print(\"Mean-square error (MSE) = \" + str(mse))\n",
        "    # MAE\n",
        "    mae_evaluator = RegressionEvaluator(metricName=\"mae\", labelCol=\"label\", predictionCol=\"prediction\")\n",
        "    mae = mae_evaluator.evaluate(predictions)\n",
        "    print(\"Mean Absolute Error (MAE) = \" + str(mae))\n",
        "    \n",
        "    return [rmse, mse, mae]\n"
      ],
      "execution_count": null,
      "outputs": []
    },
    {
      "cell_type": "code",
      "metadata": {
        "id": "0SOLNY206kiE",
        "colab": {
          "base_uri": "https://localhost:8080/",
          "height": 111
        },
        "outputId": "7cec9803-c2f7-430e-b724-74e5e16ec6d8"
      },
      "source": [
        "test_evaluation(predictions)"
      ],
      "execution_count": null,
      "outputs": [
        {
          "output_type": "stream",
          "text": [
            "Model evaluation on test data:\n",
            "Root-mean-square error (RMSE) = 0.15804901860726323\n",
            "Mean-square error (MSE) = 0.02497949228271904\n",
            "Mean Absolute Error (MAE) = 0.1548839434325815\n"
          ],
          "name": "stdout"
        },
        {
          "output_type": "execute_result",
          "data": {
            "text/plain": [
              "[0.15804901860726323, 0.02497949228271904, 0.1548839434325815]"
            ]
          },
          "metadata": {
            "tags": []
          },
          "execution_count": 18
        }
      ]
    },
    {
      "cell_type": "code",
      "metadata": {
        "id": "rzQexAYZJ3wK",
        "colab": {
          "base_uri": "https://localhost:8080/",
          "height": 343
        },
        "outputId": "ca32c459-ee19-42cd-a0d2-afaa3007039c"
      },
      "source": [
        "pd_predictions = predictions.withColumn('dif', F.col('label')-F.col('prediction')).toPandas()\n",
        "plt.hist(pd_predictions.dif, bins=50)\n",
        "plt.show()"
      ],
      "execution_count": null,
      "outputs": [
        {
          "output_type": "stream",
          "text": [
            "/usr/local/lib/python3.6/dist-packages/numpy/lib/histograms.py:839: RuntimeWarning: invalid value encountered in greater_equal\n",
            "  keep = (tmp_a >= first_edge)\n",
            "/usr/local/lib/python3.6/dist-packages/numpy/lib/histograms.py:840: RuntimeWarning: invalid value encountered in less_equal\n",
            "  keep &= (tmp_a <= last_edge)\n"
          ],
          "name": "stderr"
        },
        {
          "output_type": "display_data",
          "data": {
            "image/png": "[encoded data removed]",
            "text/plain": [
              "<Figure size 432x288 with 1 Axes>"
            ]
          },
          "metadata": {
            "tags": [],
            "needs_background": "light"
          }
        }
      ]
    },
    {
      "cell_type": "markdown",
      "metadata": {
        "id": "5dqT3eBt3tpy"
      },
      "source": [
        "### Web exploring and examples"
      ]
    },
    {
      "cell_type": "code",
      "metadata": {
        "id": "2NJfs32MoLvj",
        "colab": {
          "base_uri": "https://localhost:8080/",
          "height": 241
        },
        "outputId": "1facaac6-b4e8-4088-f6e0-7c8c707412c5"
      },
      "source": [
        "# Make predictions on a random test subset obtained through randomSplit()\n",
        "\n",
        "print(\"Predictions based on a random test subset:\")\n",
        "predictions.show(5)"
      ],
      "execution_count": null,
      "outputs": [
        {
          "output_type": "stream",
          "text": [
            "Predictions based on a random test subset:\n",
            "+-----+------+-----+----------+\n",
            "| user|patron|label|prediction|\n",
            "+-----+------+-----+----------+\n",
            "|67225|   148| 0.95| 0.7960386|\n",
            "|33200|   148| 0.95|0.79361826|\n",
            "|36554|   148| 0.95|0.79674613|\n",
            "|66668|   148| 0.95| 0.7980458|\n",
            "|22834|   148| 0.95| 0.7970642|\n",
            "+-----+------+-----+----------+\n",
            "only showing top 5 rows\n",
            "\n"
          ],
          "name": "stdout"
        }
      ]
    },
    {
      "cell_type": "markdown",
      "metadata": {
        "id": "jzS70B5P01qR"
      },
      "source": [
        "Top 5 recomendations for each user\n",
        "\n",
        "\n",
        "\n"
      ]
    },
    {
      "cell_type": "code",
      "metadata": {
        "id": "j8NZG9y5WVfL"
      },
      "source": [
        "userRecs = model.recommendForAllUsers(5) "
      ],
      "execution_count": null,
      "outputs": []
    },
    {
      "cell_type": "code",
      "metadata": {
        "id": "yS8QbUprX15G",
        "colab": {
          "base_uri": "https://localhost:8080/",
          "height": 148
        },
        "outputId": "5491fb7f-aa6a-4ce3-d3ff-840eb2e45369"
      },
      "source": [
        "userRecs.show(1, truncate = False)"
      ],
      "execution_count": null,
      "outputs": [
        {
          "output_type": "stream",
          "text": [
            "+----+------------------------------------------------------------------------------------------------+\n",
            "|user|recommendations                                                                                 |\n",
            "+----+------------------------------------------------------------------------------------------------+\n",
            "|148 |[[5592, 0.8437624], [8045, 0.8355928], [2951, 0.83432484], [7204, 0.8321394], [9638, 0.8277186]]|\n",
            "+----+------------------------------------------------------------------------------------------------+\n",
            "only showing top 1 row\n",
            "\n"
          ],
          "name": "stdout"
        }
      ]
    },
    {
      "cell_type": "markdown",
      "metadata": {
        "id": "TEEiBForktT7"
      },
      "source": [
        "To show purchase and recomendations examples, lets take my own user_id (234565). Remember that we must look into our original pandas DataFrame users"
      ]
    },
    {
      "cell_type": "code",
      "metadata": {
        "id": "0qNJfzLNjrWd",
        "colab": {
          "base_uri": "https://localhost:8080/",
          "height": 80
        },
        "outputId": "022e0fe5-ffcf-4cf6-c1b1-7c2c7b3112be"
      },
      "source": [
        "exm = pd_user[pd_user['USER_ID']==234565]\n",
        "exm"
      ],
      "execution_count": null,
      "outputs": [
        {
          "output_type": "execute_result",
          "data": {
            "text/html": [
              "<div>\n",
              "<style scoped>\n",
              "    .dataframe tbody tr th:only-of-type {\n",
              "        vertical-align: middle;\n",
              "    }\n",
              "\n",
              "    .dataframe tbody tr th {\n",
              "        vertical-align: top;\n",
              "    }\n",
              "\n",
              "    .dataframe thead th {\n",
              "        text-align: right;\n",
              "    }\n",
              "</style>\n",
              "<table border=\"1\" class=\"dataframe\">\n",
              "  <thead>\n",
              "    <tr style=\"text-align: right;\">\n",
              "      <th></th>\n",
              "      <th>USER_ID</th>\n",
              "      <th>rowid</th>\n",
              "    </tr>\n",
              "  </thead>\n",
              "  <tbody>\n",
              "    <tr>\n",
              "      <th>290356</th>\n",
              "      <td>234565</td>\n",
              "      <td>199762</td>\n",
              "    </tr>\n",
              "  </tbody>\n",
              "</table>\n",
              "</div>"
            ],
            "text/plain": [
              "        USER_ID   rowid\n",
              "290356   234565  199762"
            ]
          },
          "metadata": {
            "tags": []
          },
          "execution_count": 24
        }
      ]
    },
    {
      "cell_type": "code",
      "metadata": {
        "id": "W1D7zlYW3zZY"
      },
      "source": [
        "myrecomendations = userRecs.filter(F.col('user')==199762)"
      ],
      "execution_count": null,
      "outputs": []
    },
    {
      "cell_type": "code",
      "metadata": {
        "id": "RudtnLfjijhv",
        "colab": {
          "base_uri": "https://localhost:8080/",
          "height": 129
        },
        "outputId": "82fc5070-e808-4f1b-b1fd-071029c7574e"
      },
      "source": [
        "myrecomendations.show(truncate = False)"
      ],
      "execution_count": null,
      "outputs": [
        {
          "output_type": "stream",
          "text": [
            "+------+-------------------------------------------------------------------------------------------------+\n",
            "|user  |recommendations                                                                                  |\n",
            "+------+-------------------------------------------------------------------------------------------------+\n",
            "|199762|[[5592, 0.84171295], [8045, 0.8335633], [2951, 0.8322984], [7204, 0.83011836], [9638, 0.8257082]]|\n",
            "+------+-------------------------------------------------------------------------------------------------+\n",
            "\n"
          ],
          "name": "stdout"
        }
      ]
    },
    {
      "cell_type": "code",
      "metadata": {
        "id": "Xv3AJgwQjAkU",
        "colab": {
          "base_uri": "https://localhost:8080/",
          "height": 206
        },
        "outputId": "33071fcb-c382-41a0-c23d-03929531c4f4"
      },
      "source": [
        "pd_myrecs = pd_pat[pd_pat['rowid2'].isin([5592, 8045, 2951, 7204, 9638])]\n",
        "pd_myrecs"
      ],
      "execution_count": null,
      "outputs": [
        {
          "output_type": "execute_result",
          "data": {
            "text/html": [
              "<div>\n",
              "<style scoped>\n",
              "    .dataframe tbody tr th:only-of-type {\n",
              "        vertical-align: middle;\n",
              "    }\n",
              "\n",
              "    .dataframe tbody tr th {\n",
              "        vertical-align: top;\n",
              "    }\n",
              "\n",
              "    .dataframe thead th {\n",
              "        text-align: right;\n",
              "    }\n",
              "</style>\n",
              "<table border=\"1\" class=\"dataframe\">\n",
              "  <thead>\n",
              "    <tr style=\"text-align: right;\">\n",
              "      <th></th>\n",
              "      <th>PATRON</th>\n",
              "      <th>rowid2</th>\n",
              "    </tr>\n",
              "  </thead>\n",
              "  <tbody>\n",
              "    <tr>\n",
              "      <th>1350850</th>\n",
              "      <td>5358841</td>\n",
              "      <td>2951</td>\n",
              "    </tr>\n",
              "    <tr>\n",
              "      <th>2644269</th>\n",
              "      <td>5359422</td>\n",
              "      <td>5592</td>\n",
              "    </tr>\n",
              "    <tr>\n",
              "      <th>3416725</th>\n",
              "      <td>8328242</td>\n",
              "      <td>7204</td>\n",
              "    </tr>\n",
              "    <tr>\n",
              "      <th>3815537</th>\n",
              "      <td>3062260</td>\n",
              "      <td>8045</td>\n",
              "    </tr>\n",
              "    <tr>\n",
              "      <th>4620979</th>\n",
              "      <td>3598772</td>\n",
              "      <td>9638</td>\n",
              "    </tr>\n",
              "  </tbody>\n",
              "</table>\n",
              "</div>"
            ],
            "text/plain": [
              "          PATRON  rowid2\n",
              "1350850  5358841    2951\n",
              "2644269  5359422    5592\n",
              "3416725  8328242    7204\n",
              "3815537  3062260    8045\n",
              "4620979  3598772    9638"
            ]
          },
          "metadata": {
            "tags": []
          },
          "execution_count": 27
        }
      ]
    },
    {
      "cell_type": "code",
      "metadata": {
        "id": "61AGpzZsmfWR",
        "colab": {
          "base_uri": "https://localhost:8080/",
          "height": 551
        },
        "outputId": "dda1cb78-dc1e-464e-a57a-a612c080e45f"
      },
      "source": [
        "pd_mypurchases = pd_data_raw[pd_data_raw['USER_ID']==199762]\n",
        "pd_mypurchases"
      ],
      "execution_count": null,
      "outputs": [
        {
          "output_type": "execute_result",
          "data": {
            "text/html": [
              "<div>\n",
              "<style scoped>\n",
              "    .dataframe tbody tr th:only-of-type {\n",
              "        vertical-align: middle;\n",
              "    }\n",
              "\n",
              "    .dataframe tbody tr th {\n",
              "        vertical-align: top;\n",
              "    }\n",
              "\n",
              "    .dataframe thead th {\n",
              "        text-align: right;\n",
              "    }\n",
              "</style>\n",
              "<table border=\"1\" class=\"dataframe\">\n",
              "  <thead>\n",
              "    <tr style=\"text-align: right;\">\n",
              "      <th></th>\n",
              "      <th>USER_ID</th>\n",
              "      <th>PATRON</th>\n",
              "      <th>rating</th>\n",
              "      <th>user</th>\n",
              "      <th>patron</th>\n",
              "    </tr>\n",
              "  </thead>\n",
              "  <tbody>\n",
              "    <tr>\n",
              "      <th>458898</th>\n",
              "      <td>199762</td>\n",
              "      <td>5986397</td>\n",
              "      <td>9.5</td>\n",
              "      <td>277009</td>\n",
              "      <td>808</td>\n",
              "    </tr>\n",
              "    <tr>\n",
              "      <th>787541</th>\n",
              "      <td>199762</td>\n",
              "      <td>5996198</td>\n",
              "      <td>9.5</td>\n",
              "      <td>277009</td>\n",
              "      <td>1585</td>\n",
              "    </tr>\n",
              "    <tr>\n",
              "      <th>1030048</th>\n",
              "      <td>199762</td>\n",
              "      <td>5985323</td>\n",
              "      <td>9.5</td>\n",
              "      <td>277009</td>\n",
              "      <td>2199</td>\n",
              "    </tr>\n",
              "    <tr>\n",
              "      <th>1255536</th>\n",
              "      <td>199762</td>\n",
              "      <td>4345649</td>\n",
              "      <td>9.5</td>\n",
              "      <td>277009</td>\n",
              "      <td>2643</td>\n",
              "    </tr>\n",
              "    <tr>\n",
              "      <th>2252843</th>\n",
              "      <td>199762</td>\n",
              "      <td>7682867</td>\n",
              "      <td>9.5</td>\n",
              "      <td>277009</td>\n",
              "      <td>4317</td>\n",
              "    </tr>\n",
              "    <tr>\n",
              "      <th>3099693</th>\n",
              "      <td>199762</td>\n",
              "      <td>5987822</td>\n",
              "      <td>9.5</td>\n",
              "      <td>277009</td>\n",
              "      <td>6499</td>\n",
              "    </tr>\n",
              "    <tr>\n",
              "      <th>3308921</th>\n",
              "      <td>199762</td>\n",
              "      <td>5545463</td>\n",
              "      <td>9.5</td>\n",
              "      <td>277009</td>\n",
              "      <td>6859</td>\n",
              "    </tr>\n",
              "    <tr>\n",
              "      <th>3576664</th>\n",
              "      <td>199762</td>\n",
              "      <td>5996260</td>\n",
              "      <td>9.5</td>\n",
              "      <td>277009</td>\n",
              "      <td>7524</td>\n",
              "    </tr>\n",
              "    <tr>\n",
              "      <th>4115606</th>\n",
              "      <td>199762</td>\n",
              "      <td>7915306</td>\n",
              "      <td>9.5</td>\n",
              "      <td>277009</td>\n",
              "      <td>8647</td>\n",
              "    </tr>\n",
              "    <tr>\n",
              "      <th>4259410</th>\n",
              "      <td>199762</td>\n",
              "      <td>5997941</td>\n",
              "      <td>9.5</td>\n",
              "      <td>277009</td>\n",
              "      <td>8868</td>\n",
              "    </tr>\n",
              "    <tr>\n",
              "      <th>4881452</th>\n",
              "      <td>199762</td>\n",
              "      <td>4275519</td>\n",
              "      <td>9.5</td>\n",
              "      <td>277009</td>\n",
              "      <td>10025</td>\n",
              "    </tr>\n",
              "    <tr>\n",
              "      <th>4958945</th>\n",
              "      <td>199762</td>\n",
              "      <td>5995175</td>\n",
              "      <td>9.5</td>\n",
              "      <td>277009</td>\n",
              "      <td>10286</td>\n",
              "    </tr>\n",
              "    <tr>\n",
              "      <th>5013896</th>\n",
              "      <td>199762</td>\n",
              "      <td>4277376</td>\n",
              "      <td>9.5</td>\n",
              "      <td>277009</td>\n",
              "      <td>10348</td>\n",
              "    </tr>\n",
              "    <tr>\n",
              "      <th>5046866</th>\n",
              "      <td>199762</td>\n",
              "      <td>5997135</td>\n",
              "      <td>9.5</td>\n",
              "      <td>277009</td>\n",
              "      <td>10454</td>\n",
              "    </tr>\n",
              "    <tr>\n",
              "      <th>5054940</th>\n",
              "      <td>199762</td>\n",
              "      <td>5986249</td>\n",
              "      <td>9.5</td>\n",
              "      <td>277009</td>\n",
              "      <td>10505</td>\n",
              "    </tr>\n",
              "    <tr>\n",
              "      <th>5375812</th>\n",
              "      <td>199762</td>\n",
              "      <td>8037612</td>\n",
              "      <td>9.5</td>\n",
              "      <td>277009</td>\n",
              "      <td>11114</td>\n",
              "    </tr>\n",
              "  </tbody>\n",
              "</table>\n",
              "</div>"
            ],
            "text/plain": [
              "         USER_ID   PATRON  rating    user  patron\n",
              "458898    199762  5986397     9.5  277009     808\n",
              "787541    199762  5996198     9.5  277009    1585\n",
              "1030048   199762  5985323     9.5  277009    2199\n",
              "1255536   199762  4345649     9.5  277009    2643\n",
              "2252843   199762  7682867     9.5  277009    4317\n",
              "3099693   199762  5987822     9.5  277009    6499\n",
              "3308921   199762  5545463     9.5  277009    6859\n",
              "3576664   199762  5996260     9.5  277009    7524\n",
              "4115606   199762  7915306     9.5  277009    8647\n",
              "4259410   199762  5997941     9.5  277009    8868\n",
              "4881452   199762  4275519     9.5  277009   10025\n",
              "4958945   199762  5995175     9.5  277009   10286\n",
              "5013896   199762  4277376     9.5  277009   10348\n",
              "5046866   199762  5997135     9.5  277009   10454\n",
              "5054940   199762  5986249     9.5  277009   10505\n",
              "5375812   199762  8037612     9.5  277009   11114"
            ]
          },
          "metadata": {
            "tags": []
          },
          "execution_count": 29
        }
      ]
    },
    {
      "cell_type": "markdown",
      "metadata": {
        "id": "WKXn_EC5-bNA"
      },
      "source": [
        "https://womensecret.com/es/es/search?q=7682867\n",
        "\n",
        "https://womensecret.com/es/es/search?q=5987822\n",
        "\n",
        "\n"
      ]
    }
  ]
}