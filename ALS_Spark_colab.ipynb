{
  "nbformat": 4,
  "nbformat_minor": 0,
  "metadata": {
    "kernelspec": {
      "display_name": "Python 3",
      "language": "python",
      "name": "python3"
    },
    "language_info": {
      "codemirror_mode": {
        "name": "ipython",
        "version": 3
      },
      "file_extension": ".py",
      "mimetype": "text/x-python",
      "name": "python",
      "nbconvert_exporter": "python",
      "pygments_lexer": "ipython3",
      "version": "3.7.4"
    },
    "colab": {
      "name": "ALS_Spark_colab.ipynb",
      "provenance": [],
      "collapsed_sections": [],
      "include_colab_link": true
    },
    "accelerator": "TPU"
  },
  "cells": [
    {
      "cell_type": "markdown",
      "metadata": {
        "id": "view-in-github",
        "colab_type": "text"
      },
      "source": [
        "<a href=\"https://colab.research.google.com/github/jalonsomoya/FSCLogs/blob/master/ALS_Spark_colab.ipynb\" target=\"_parent\"><img src=\"https://colab.research.google.com/assets/colab-badge.svg\" alt=\"Open In Colab\"/></a>"
      ]
    },
    {
      "cell_type": "code",
      "metadata": {
        "id": "YrWVIGg-IzeC",
        "colab_type": "code",
        "colab": {}
      },
      "source": [
        "import pandas as pd"
      ],
      "execution_count": 1,
      "outputs": []
    },
    {
      "cell_type": "code",
      "metadata": {
        "id": "xk6ZxLcWJqQF",
        "colab_type": "code",
        "colab": {
          "base_uri": "https://localhost:8080/",
          "height": 35
        },
        "outputId": "342c53ac-df2f-4445-b8de-277e814aad64"
      },
      "source": [
        "from google.colab import drive\n",
        "drive.mount('/content/drive')"
      ],
      "execution_count": 2,
      "outputs": [
        {
          "output_type": "stream",
          "text": [
            "Mounted at /content/drive\n"
          ],
          "name": "stdout"
        }
      ]
    },
    {
      "cell_type": "code",
      "metadata": {
        "id": "oAA_8tiwKG-n",
        "colab_type": "code",
        "colab": {
          "base_uri": "https://localhost:8080/",
          "height": 35
        },
        "outputId": "e15ec480-3ed3-4f48-f559-e58081a3a425"
      },
      "source": [
        "!pwd\n",
        "path = './drive/My Drive/Colab Notebooks/'\n"
      ],
      "execution_count": 3,
      "outputs": [
        {
          "output_type": "stream",
          "text": [
            "/content\n"
          ],
          "name": "stdout"
        }
      ]
    },
    {
      "cell_type": "code",
      "metadata": {
        "id": "1yx4IIcbIzeM",
        "colab_type": "code",
        "colab": {
          "base_uri": "https://localhost:8080/",
          "height": 72
        },
        "outputId": "12aa2be4-a104-458e-901e-0af7dd23e939"
      },
      "source": [
        "# Reading CSV of WS brand\n",
        "pd_data_raw = pd.read_csv(path+'Ratings WS.zip', sep='\\t', \n",
        "                            # nrows=100000,\n",
        "                            encoding = 'UTF-8-SIG', engine = 'python', decimal=',')\n",
        "\n",
        "print('Number of rating records: ' + str(len(pd_data_raw)))\n",
        "print('Total of users: ' + str(pd_data_raw.USER_ID.nunique()))\n",
        "print('Total of patterns: ' + str(pd_data_raw.PATRON.nunique()))"
      ],
      "execution_count": 4,
      "outputs": [
        {
          "output_type": "stream",
          "text": [
            "Number of rating records: 2157976\n",
            "Total of users: 588532\n",
            "Total of patterns: 3739\n"
          ],
          "name": "stdout"
        }
      ]
    },
    {
      "cell_type": "code",
      "metadata": {
        "id": "cJeIgRfWIzeR",
        "colab_type": "code",
        "colab": {
          "base_uri": "https://localhost:8080/",
          "height": 219
        },
        "outputId": "1da94230-b07d-4631-9dd3-e7a08101d78a"
      },
      "source": [
        "pd_data_raw.info()"
      ],
      "execution_count": 5,
      "outputs": [
        {
          "output_type": "stream",
          "text": [
            "<class 'pandas.core.frame.DataFrame'>\n",
            "RangeIndex: 2157976 entries, 0 to 2157975\n",
            "Data columns (total 4 columns):\n",
            " #   Column       Dtype \n",
            "---  ------       ----- \n",
            " 0   USER_ID      object\n",
            " 1   PATRON       int64 \n",
            " 2   RATING       int64 \n",
            " 3   PATRON_DESC  object\n",
            "dtypes: int64(2), object(2)\n",
            "memory usage: 65.9+ MB\n"
          ],
          "name": "stdout"
        }
      ]
    },
    {
      "cell_type": "markdown",
      "metadata": {
        "id": "sEcjgwf4IzeY",
        "colab_type": "text"
      },
      "source": [
        "Tras incluir los guest-users (a los usuarios no registrados se les da un id temporal), el campo USER_ID es alfanumérico."
      ]
    },
    {
      "cell_type": "code",
      "metadata": {
        "id": "7R7I9u4TIzeZ",
        "colab_type": "code",
        "colab": {}
      },
      "source": [
        "#pd_ratings_WS['USER_ID'] = pd_ratings_WS['USER_ID'].str[-7:].astype(int)\n",
        "# It isnt needed to cast this id as integer, we will do it later for ALS"
      ],
      "execution_count": 6,
      "outputs": []
    },
    {
      "cell_type": "markdown",
      "metadata": {
        "id": "tyXLH7WTIzee",
        "colab_type": "text"
      },
      "source": [
        "For the ALS Model, it is needed to have an user_id consecutive and integer.\n",
        "\n",
        "With the following code, setting first record as 0, and compare each following user increasing the integer new_id or not;\n",
        "it takes too long to reasign the user identifier.\n",
        "\n",
        "\n",
        "pd_ratings2 = pd_ratings_WS.copy()\n",
        "\n",
        "pd_ratings2 = pd_ratings2.sort_values('USER_ID').reset_index(drop=True)\n",
        "pd_ratings2['user_id_new'] = 0\n",
        "cnt = 1\n",
        "pd_ratings2.user_id_new[0] = cnt\n",
        "for i in range(1,len(pd_ratings2)):\n",
        "    if pd_ratings2.USER_ID[i] != pd_ratings2.USER_ID[i-1]:\n",
        "        cnt += 1    \n",
        "    pd_ratings2.user_id_new[i] = cnt\n",
        "    if i%10000 == 0:\n",
        "        print(i)\n",
        "        \n",
        "\n",
        "We are going to change the perspective, we'll take the users into a separate DF in order to .dropDuplicates() and add a column with the row_number.\n",
        "With this new DF, we'll do a join to reasign de user_id\n"
      ]
    },
    {
      "cell_type": "code",
      "metadata": {
        "id": "BIliihXlIzef",
        "colab_type": "code",
        "colab": {
          "base_uri": "https://localhost:8080/",
          "height": 424
        },
        "outputId": "a035e144-3164-4c20-8073-4e5d13436026"
      },
      "source": [
        "pd_user = pd.DataFrame(pd_data_raw[\"USER_ID\"])\n",
        "pd_user.drop_duplicates(inplace=True)\n",
        "pd_user['rowid'] = pd_user.reset_index().index+1\n",
        "pd_user"
      ],
      "execution_count": 7,
      "outputs": [
        {
          "output_type": "execute_result",
          "data": {
            "text/html": [
              "<div>\n",
              "<style scoped>\n",
              "    .dataframe tbody tr th:only-of-type {\n",
              "        vertical-align: middle;\n",
              "    }\n",
              "\n",
              "    .dataframe tbody tr th {\n",
              "        vertical-align: top;\n",
              "    }\n",
              "\n",
              "    .dataframe thead th {\n",
              "        text-align: right;\n",
              "    }\n",
              "</style>\n",
              "<table border=\"1\" class=\"dataframe\">\n",
              "  <thead>\n",
              "    <tr style=\"text-align: right;\">\n",
              "      <th></th>\n",
              "      <th>USER_ID</th>\n",
              "      <th>rowid</th>\n",
              "    </tr>\n",
              "  </thead>\n",
              "  <tbody>\n",
              "    <tr>\n",
              "      <th>0</th>\n",
              "      <td>01071253</td>\n",
              "      <td>1</td>\n",
              "    </tr>\n",
              "    <tr>\n",
              "      <th>1</th>\n",
              "      <td>01152861</td>\n",
              "      <td>2</td>\n",
              "    </tr>\n",
              "    <tr>\n",
              "      <th>2</th>\n",
              "      <td>01215284</td>\n",
              "      <td>3</td>\n",
              "    </tr>\n",
              "    <tr>\n",
              "      <th>4</th>\n",
              "      <td>01459570</td>\n",
              "      <td>4</td>\n",
              "    </tr>\n",
              "    <tr>\n",
              "      <th>5</th>\n",
              "      <td>01557274</td>\n",
              "      <td>5</td>\n",
              "    </tr>\n",
              "    <tr>\n",
              "      <th>...</th>\n",
              "      <td>...</td>\n",
              "      <td>...</td>\n",
              "    </tr>\n",
              "    <tr>\n",
              "      <th>2157958</th>\n",
              "      <td>9718-2602117</td>\n",
              "      <td>588528</td>\n",
              "    </tr>\n",
              "    <tr>\n",
              "      <th>2157964</th>\n",
              "      <td>9718-2621121</td>\n",
              "      <td>588529</td>\n",
              "    </tr>\n",
              "    <tr>\n",
              "      <th>2157965</th>\n",
              "      <td>9718-2622540</td>\n",
              "      <td>588530</td>\n",
              "    </tr>\n",
              "    <tr>\n",
              "      <th>2157966</th>\n",
              "      <td>9718-2623068</td>\n",
              "      <td>588531</td>\n",
              "    </tr>\n",
              "    <tr>\n",
              "      <th>2157971</th>\n",
              "      <td>9718-2625768</td>\n",
              "      <td>588532</td>\n",
              "    </tr>\n",
              "  </tbody>\n",
              "</table>\n",
              "<p>588532 rows × 2 columns</p>\n",
              "</div>"
            ],
            "text/plain": [
              "              USER_ID   rowid\n",
              "0            01071253       1\n",
              "1            01152861       2\n",
              "2            01215284       3\n",
              "4            01459570       4\n",
              "5            01557274       5\n",
              "...               ...     ...\n",
              "2157958  9718-2602117  588528\n",
              "2157964  9718-2621121  588529\n",
              "2157965  9718-2622540  588530\n",
              "2157966  9718-2623068  588531\n",
              "2157971  9718-2625768  588532\n",
              "\n",
              "[588532 rows x 2 columns]"
            ]
          },
          "metadata": {
            "tags": []
          },
          "execution_count": 7
        }
      ]
    },
    {
      "cell_type": "code",
      "metadata": {
        "id": "ONU8fnyJIzek",
        "colab_type": "code",
        "colab": {
          "base_uri": "https://localhost:8080/",
          "height": 424
        },
        "outputId": "b0bde8a7-d149-4476-837e-8bc8965dfa4a"
      },
      "source": [
        "pd_pat = pd.DataFrame(pd_data_raw[\"PATRON\"])\n",
        "\n",
        "pd_pat.drop_duplicates(inplace=True)\n",
        "pd_pat['rowid2'] = pd_pat.reset_index().index+1\n",
        "pd_pat"
      ],
      "execution_count": 8,
      "outputs": [
        {
          "output_type": "execute_result",
          "data": {
            "text/html": [
              "<div>\n",
              "<style scoped>\n",
              "    .dataframe tbody tr th:only-of-type {\n",
              "        vertical-align: middle;\n",
              "    }\n",
              "\n",
              "    .dataframe tbody tr th {\n",
              "        vertical-align: top;\n",
              "    }\n",
              "\n",
              "    .dataframe thead th {\n",
              "        text-align: right;\n",
              "    }\n",
              "</style>\n",
              "<table border=\"1\" class=\"dataframe\">\n",
              "  <thead>\n",
              "    <tr style=\"text-align: right;\">\n",
              "      <th></th>\n",
              "      <th>PATRON</th>\n",
              "      <th>rowid2</th>\n",
              "    </tr>\n",
              "  </thead>\n",
              "  <tbody>\n",
              "    <tr>\n",
              "      <th>0</th>\n",
              "      <td>4028341</td>\n",
              "      <td>1</td>\n",
              "    </tr>\n",
              "    <tr>\n",
              "      <th>1</th>\n",
              "      <td>4349342</td>\n",
              "      <td>2</td>\n",
              "    </tr>\n",
              "    <tr>\n",
              "      <th>2</th>\n",
              "      <td>3139093</td>\n",
              "      <td>3</td>\n",
              "    </tr>\n",
              "    <tr>\n",
              "      <th>3</th>\n",
              "      <td>3139204</td>\n",
              "      <td>4</td>\n",
              "    </tr>\n",
              "    <tr>\n",
              "      <th>4</th>\n",
              "      <td>4275969</td>\n",
              "      <td>5</td>\n",
              "    </tr>\n",
              "    <tr>\n",
              "      <th>...</th>\n",
              "      <td>...</td>\n",
              "      <td>...</td>\n",
              "    </tr>\n",
              "    <tr>\n",
              "      <th>2128821</th>\n",
              "      <td>8325111</td>\n",
              "      <td>3735</td>\n",
              "    </tr>\n",
              "    <tr>\n",
              "      <th>2136335</th>\n",
              "      <td>3546020</td>\n",
              "      <td>3736</td>\n",
              "    </tr>\n",
              "    <tr>\n",
              "      <th>2139011</th>\n",
              "      <td>4926447</td>\n",
              "      <td>3737</td>\n",
              "    </tr>\n",
              "    <tr>\n",
              "      <th>2144529</th>\n",
              "      <td>4027841</td>\n",
              "      <td>3738</td>\n",
              "    </tr>\n",
              "    <tr>\n",
              "      <th>2157255</th>\n",
              "      <td>4028236</td>\n",
              "      <td>3739</td>\n",
              "    </tr>\n",
              "  </tbody>\n",
              "</table>\n",
              "<p>3739 rows × 2 columns</p>\n",
              "</div>"
            ],
            "text/plain": [
              "          PATRON  rowid2\n",
              "0        4028341       1\n",
              "1        4349342       2\n",
              "2        3139093       3\n",
              "3        3139204       4\n",
              "4        4275969       5\n",
              "...          ...     ...\n",
              "2128821  8325111    3735\n",
              "2136335  3546020    3736\n",
              "2139011  4926447    3737\n",
              "2144529  4027841    3738\n",
              "2157255  4028236    3739\n",
              "\n",
              "[3739 rows x 2 columns]"
            ]
          },
          "metadata": {
            "tags": []
          },
          "execution_count": 8
        }
      ]
    },
    {
      "cell_type": "code",
      "metadata": {
        "id": "aL5yuqCMIzep",
        "colab_type": "code",
        "colab": {
          "base_uri": "https://localhost:8080/",
          "height": 424
        },
        "outputId": "00711fe2-7fad-40f6-8009-1d8b9cd85670"
      },
      "source": [
        "pd_data_WS = pd.merge(pd_data_raw, pd_user, on='USER_ID',how='left')\n",
        "pd_data_WS = pd.merge(pd_data_WS, pd_pat, on='PATRON',how='left')\n",
        "pd_data_WS = pd_data_WS[['rowid','rowid2','RATING','PATRON_DESC']]\n",
        "pd_data_WS.rename(columns={\"rowid\":\"user\"},inplace=True)\n",
        "pd_data_WS.rename(columns={\"rowid2\":\"patron\"},inplace=True)\n",
        "pd_data_WS.rename(columns={\"PATRON_DESC\":\"desc\"},inplace=True)\n",
        "pd_data_WS.rename(columns={\"RATING\":\"rating\"},inplace=True)\n",
        "pd_data_WS"
      ],
      "execution_count": 9,
      "outputs": [
        {
          "output_type": "execute_result",
          "data": {
            "text/html": [
              "<div>\n",
              "<style scoped>\n",
              "    .dataframe tbody tr th:only-of-type {\n",
              "        vertical-align: middle;\n",
              "    }\n",
              "\n",
              "    .dataframe tbody tr th {\n",
              "        vertical-align: top;\n",
              "    }\n",
              "\n",
              "    .dataframe thead th {\n",
              "        text-align: right;\n",
              "    }\n",
              "</style>\n",
              "<table border=\"1\" class=\"dataframe\">\n",
              "  <thead>\n",
              "    <tr style=\"text-align: right;\">\n",
              "      <th></th>\n",
              "      <th>user</th>\n",
              "      <th>patron</th>\n",
              "      <th>rating</th>\n",
              "      <th>desc</th>\n",
              "    </tr>\n",
              "  </thead>\n",
              "  <tbody>\n",
              "    <tr>\n",
              "      <th>0</th>\n",
              "      <td>1</td>\n",
              "      <td>1</td>\n",
              "      <td>3</td>\n",
              "      <td>FE1 LACE ST EMERALD</td>\n",
              "    </tr>\n",
              "    <tr>\n",
              "      <th>1</th>\n",
              "      <td>2</td>\n",
              "      <td>2</td>\n",
              "      <td>3</td>\n",
              "      <td>CT PAPALLONA TOP MULTIWAY</td>\n",
              "    </tr>\n",
              "    <tr>\n",
              "      <th>2</th>\n",
              "      <td>3</td>\n",
              "      <td>3</td>\n",
              "      <td>3</td>\n",
              "      <td>HW ROMANCE SET</td>\n",
              "    </tr>\n",
              "    <tr>\n",
              "      <th>3</th>\n",
              "      <td>3</td>\n",
              "      <td>4</td>\n",
              "      <td>3</td>\n",
              "      <td>KJ HK SUSHI PJ</td>\n",
              "    </tr>\n",
              "    <tr>\n",
              "      <th>4</th>\n",
              "      <td>4</td>\n",
              "      <td>5</td>\n",
              "      <td>3</td>\n",
              "      <td>ES ESPALDA MULTIESCOTES</td>\n",
              "    </tr>\n",
              "    <tr>\n",
              "      <th>...</th>\n",
              "      <td>...</td>\n",
              "      <td>...</td>\n",
              "      <td>...</td>\n",
              "      <td>...</td>\n",
              "    </tr>\n",
              "    <tr>\n",
              "      <th>2157971</th>\n",
              "      <td>588532</td>\n",
              "      <td>2273</td>\n",
              "      <td>5</td>\n",
              "      <td>HS MONDAY PJ</td>\n",
              "    </tr>\n",
              "    <tr>\n",
              "      <th>2157972</th>\n",
              "      <td>588532</td>\n",
              "      <td>2333</td>\n",
              "      <td>5</td>\n",
              "      <td>HS FRIDAY PJ</td>\n",
              "    </tr>\n",
              "    <tr>\n",
              "      <th>2157973</th>\n",
              "      <td>588532</td>\n",
              "      <td>2312</td>\n",
              "      <td>5</td>\n",
              "      <td>MM2 BLUE CENEFA LOUN</td>\n",
              "    </tr>\n",
              "    <tr>\n",
              "      <th>2157974</th>\n",
              "      <td>588532</td>\n",
              "      <td>793</td>\n",
              "      <td>5</td>\n",
              "      <td>WS CHUBBIES FOREVER RED</td>\n",
              "    </tr>\n",
              "    <tr>\n",
              "      <th>2157975</th>\n",
              "      <td>588532</td>\n",
              "      <td>1568</td>\n",
              "      <td>5</td>\n",
              "      <td>WS CHUBBIES PERFECT BROWN</td>\n",
              "    </tr>\n",
              "  </tbody>\n",
              "</table>\n",
              "<p>2157976 rows × 4 columns</p>\n",
              "</div>"
            ],
            "text/plain": [
              "           user  patron  rating                                desc\n",
              "0             1       1       3  FE1 LACE ST EMERALD               \n",
              "1             2       2       3  CT PAPALLONA TOP MULTIWAY         \n",
              "2             3       3       3  HW ROMANCE SET                    \n",
              "3             3       4       3  KJ HK SUSHI PJ                    \n",
              "4             4       5       3  ES ESPALDA MULTIESCOTES           \n",
              "...         ...     ...     ...                                 ...\n",
              "2157971  588532    2273       5  HS MONDAY PJ                      \n",
              "2157972  588532    2333       5  HS FRIDAY PJ                      \n",
              "2157973  588532    2312       5  MM2 BLUE CENEFA LOUN              \n",
              "2157974  588532     793       5  WS CHUBBIES FOREVER RED           \n",
              "2157975  588532    1568       5  WS CHUBBIES PERFECT BROWN         \n",
              "\n",
              "[2157976 rows x 4 columns]"
            ]
          },
          "metadata": {
            "tags": []
          },
          "execution_count": 9
        }
      ]
    },
    {
      "cell_type": "code",
      "metadata": {
        "id": "uxSVH5AOIzeu",
        "colab_type": "code",
        "colab": {
          "base_uri": "https://localhost:8080/",
          "height": 424
        },
        "outputId": "03ded3c9-768e-4341-b02a-afc0bca2c7d1"
      },
      "source": [
        "pd_items = pd_data_WS[['patron','desc','rating']] \\\n",
        "                .groupby(['patron','desc'])['rating'] \\\n",
        "                .mean().reset_index(name='rating') \\\n",
        "                .sort_values('rating', ascending =False)\n",
        "pd_items"
      ],
      "execution_count": 10,
      "outputs": [
        {
          "output_type": "execute_result",
          "data": {
            "text/html": [
              "<div>\n",
              "<style scoped>\n",
              "    .dataframe tbody tr th:only-of-type {\n",
              "        vertical-align: middle;\n",
              "    }\n",
              "\n",
              "    .dataframe tbody tr th {\n",
              "        vertical-align: top;\n",
              "    }\n",
              "\n",
              "    .dataframe thead th {\n",
              "        text-align: right;\n",
              "    }\n",
              "</style>\n",
              "<table border=\"1\" class=\"dataframe\">\n",
              "  <thead>\n",
              "    <tr style=\"text-align: right;\">\n",
              "      <th></th>\n",
              "      <th>patron</th>\n",
              "      <th>desc</th>\n",
              "      <th>rating</th>\n",
              "    </tr>\n",
              "  </thead>\n",
              "  <tbody>\n",
              "    <tr>\n",
              "      <th>3738</th>\n",
              "      <td>3739</td>\n",
              "      <td>FLOCK SBD LICHT NUD</td>\n",
              "      <td>5.0</td>\n",
              "    </tr>\n",
              "    <tr>\n",
              "      <th>2438</th>\n",
              "      <td>2439</td>\n",
              "      <td>FL FLOCK ANTRA SB</td>\n",
              "      <td>5.0</td>\n",
              "    </tr>\n",
              "    <tr>\n",
              "      <th>2444</th>\n",
              "      <td>2445</td>\n",
              "      <td>FL FLOCK PINK BB</td>\n",
              "      <td>5.0</td>\n",
              "    </tr>\n",
              "    <tr>\n",
              "      <th>2443</th>\n",
              "      <td>2444</td>\n",
              "      <td>MM3-STITCH SLPRS</td>\n",
              "      <td>5.0</td>\n",
              "    </tr>\n",
              "    <tr>\n",
              "      <th>2442</th>\n",
              "      <td>2443</td>\n",
              "      <td>FE1 LACE BC EMERALD</td>\n",
              "      <td>5.0</td>\n",
              "    </tr>\n",
              "    <tr>\n",
              "      <th>...</th>\n",
              "      <td>...</td>\n",
              "      <td>...</td>\n",
              "      <td>...</td>\n",
              "    </tr>\n",
              "    <tr>\n",
              "      <th>3047</th>\n",
              "      <td>3048</td>\n",
              "      <td>HW-PE HANG VTY</td>\n",
              "      <td>3.0</td>\n",
              "    </tr>\n",
              "    <tr>\n",
              "      <th>3048</th>\n",
              "      <td>3049</td>\n",
              "      <td>MB-PE POUCH</td>\n",
              "      <td>3.0</td>\n",
              "    </tr>\n",
              "    <tr>\n",
              "      <th>3050</th>\n",
              "      <td>3051</td>\n",
              "      <td>SD-PE ALL BOOTS</td>\n",
              "      <td>3.0</td>\n",
              "    </tr>\n",
              "    <tr>\n",
              "      <th>181</th>\n",
              "      <td>182</td>\n",
              "      <td>BB SHINNY BLCK BODY</td>\n",
              "      <td>3.0</td>\n",
              "    </tr>\n",
              "    <tr>\n",
              "      <th>2738</th>\n",
              "      <td>2739</td>\n",
              "      <td>HELANKA BRGUNDY BDY</td>\n",
              "      <td>3.0</td>\n",
              "    </tr>\n",
              "  </tbody>\n",
              "</table>\n",
              "<p>3739 rows × 3 columns</p>\n",
              "</div>"
            ],
            "text/plain": [
              "      patron                                desc  rating\n",
              "3738    3739  FLOCK SBD LICHT NUD                    5.0\n",
              "2438    2439  FL FLOCK ANTRA SB                      5.0\n",
              "2444    2445  FL FLOCK PINK BB                       5.0\n",
              "2443    2444  MM3-STITCH SLPRS                       5.0\n",
              "2442    2443  FE1 LACE BC EMERALD                    5.0\n",
              "...      ...                                 ...     ...\n",
              "3047    3048  HW-PE HANG VTY                         3.0\n",
              "3048    3049  MB-PE POUCH                            3.0\n",
              "3050    3051  SD-PE ALL BOOTS                        3.0\n",
              "181      182  BB SHINNY BLCK BODY                    3.0\n",
              "2738    2739  HELANKA BRGUNDY BDY                    3.0\n",
              "\n",
              "[3739 rows x 3 columns]"
            ]
          },
          "metadata": {
            "tags": []
          },
          "execution_count": 10
        }
      ]
    },
    {
      "cell_type": "code",
      "metadata": {
        "id": "ROY6bIW2Izez",
        "colab_type": "code",
        "colab": {
          "base_uri": "https://localhost:8080/",
          "height": 534
        },
        "outputId": "100f6a90-4cac-4a55-b393-d586b61cc67d"
      },
      "source": [
        "pd_ratings = pd_data_WS[['user','patron','rating']]\n",
        "pd_ratings['rating'] = pd_ratings[['rating']].astype(float)\n",
        "pd_ratings"
      ],
      "execution_count": 11,
      "outputs": [
        {
          "output_type": "stream",
          "text": [
            "/usr/local/lib/python3.6/dist-packages/ipykernel_launcher.py:2: SettingWithCopyWarning: \n",
            "A value is trying to be set on a copy of a slice from a DataFrame.\n",
            "Try using .loc[row_indexer,col_indexer] = value instead\n",
            "\n",
            "See the caveats in the documentation: https://pandas.pydata.org/pandas-docs/stable/user_guide/indexing.html#returning-a-view-versus-a-copy\n",
            "  \n"
          ],
          "name": "stderr"
        },
        {
          "output_type": "execute_result",
          "data": {
            "text/html": [
              "<div>\n",
              "<style scoped>\n",
              "    .dataframe tbody tr th:only-of-type {\n",
              "        vertical-align: middle;\n",
              "    }\n",
              "\n",
              "    .dataframe tbody tr th {\n",
              "        vertical-align: top;\n",
              "    }\n",
              "\n",
              "    .dataframe thead th {\n",
              "        text-align: right;\n",
              "    }\n",
              "</style>\n",
              "<table border=\"1\" class=\"dataframe\">\n",
              "  <thead>\n",
              "    <tr style=\"text-align: right;\">\n",
              "      <th></th>\n",
              "      <th>user</th>\n",
              "      <th>patron</th>\n",
              "      <th>rating</th>\n",
              "    </tr>\n",
              "  </thead>\n",
              "  <tbody>\n",
              "    <tr>\n",
              "      <th>0</th>\n",
              "      <td>1</td>\n",
              "      <td>1</td>\n",
              "      <td>3.0</td>\n",
              "    </tr>\n",
              "    <tr>\n",
              "      <th>1</th>\n",
              "      <td>2</td>\n",
              "      <td>2</td>\n",
              "      <td>3.0</td>\n",
              "    </tr>\n",
              "    <tr>\n",
              "      <th>2</th>\n",
              "      <td>3</td>\n",
              "      <td>3</td>\n",
              "      <td>3.0</td>\n",
              "    </tr>\n",
              "    <tr>\n",
              "      <th>3</th>\n",
              "      <td>3</td>\n",
              "      <td>4</td>\n",
              "      <td>3.0</td>\n",
              "    </tr>\n",
              "    <tr>\n",
              "      <th>4</th>\n",
              "      <td>4</td>\n",
              "      <td>5</td>\n",
              "      <td>3.0</td>\n",
              "    </tr>\n",
              "    <tr>\n",
              "      <th>...</th>\n",
              "      <td>...</td>\n",
              "      <td>...</td>\n",
              "      <td>...</td>\n",
              "    </tr>\n",
              "    <tr>\n",
              "      <th>2157971</th>\n",
              "      <td>588532</td>\n",
              "      <td>2273</td>\n",
              "      <td>5.0</td>\n",
              "    </tr>\n",
              "    <tr>\n",
              "      <th>2157972</th>\n",
              "      <td>588532</td>\n",
              "      <td>2333</td>\n",
              "      <td>5.0</td>\n",
              "    </tr>\n",
              "    <tr>\n",
              "      <th>2157973</th>\n",
              "      <td>588532</td>\n",
              "      <td>2312</td>\n",
              "      <td>5.0</td>\n",
              "    </tr>\n",
              "    <tr>\n",
              "      <th>2157974</th>\n",
              "      <td>588532</td>\n",
              "      <td>793</td>\n",
              "      <td>5.0</td>\n",
              "    </tr>\n",
              "    <tr>\n",
              "      <th>2157975</th>\n",
              "      <td>588532</td>\n",
              "      <td>1568</td>\n",
              "      <td>5.0</td>\n",
              "    </tr>\n",
              "  </tbody>\n",
              "</table>\n",
              "<p>2157976 rows × 3 columns</p>\n",
              "</div>"
            ],
            "text/plain": [
              "           user  patron  rating\n",
              "0             1       1     3.0\n",
              "1             2       2     3.0\n",
              "2             3       3     3.0\n",
              "3             3       4     3.0\n",
              "4             4       5     3.0\n",
              "...         ...     ...     ...\n",
              "2157971  588532    2273     5.0\n",
              "2157972  588532    2333     5.0\n",
              "2157973  588532    2312     5.0\n",
              "2157974  588532     793     5.0\n",
              "2157975  588532    1568     5.0\n",
              "\n",
              "[2157976 rows x 3 columns]"
            ]
          },
          "metadata": {
            "tags": []
          },
          "execution_count": 11
        }
      ]
    },
    {
      "cell_type": "code",
      "metadata": {
        "id": "d67Fi7r_Ize4",
        "colab_type": "code",
        "colab": {
          "base_uri": "https://localhost:8080/",
          "height": 72
        },
        "outputId": "6444d228-2f32-4473-911d-12b8a6dc4b01"
      },
      "source": [
        "!apt-get install openjdk-8-jdk-headless -qq > /dev/null\n",
        "!wget -q http://apache.uvigo.es/spark/spark-2.4.7/spark-2.4.7-bin-hadoop2.7.tgz\n",
        "!tar -xf spark-2.4.7-bin-hadoop2.7.tgz\n",
        "!pip install -q findspark pyspark==2.4.7\n",
        "\n",
        "import os\n",
        "import findspark\n",
        "from pyspark.sql import SparkSession\n",
        "\n",
        "os.environ[\"JAVA_HOME\"] = \"/usr/lib/jvm/java-8-openjdk-amd64\"\n",
        "os.environ[\"SPARK_HOME\"] = \"/content/spark-2.4.7-bin-hadoop2.7\"\n",
        "findspark.init()\n",
        "spark = SparkSession.builder.master(\"local[*]\").getOrCreate()"
      ],
      "execution_count": 12,
      "outputs": [
        {
          "output_type": "stream",
          "text": [
            "\u001b[K     |████████████████████████████████| 217.9MB 40kB/s \n",
            "\u001b[K     |████████████████████████████████| 204kB 39.2MB/s \n",
            "\u001b[?25h  Building wheel for pyspark (setup.py) ... \u001b[?25l\u001b[?25hdone\n"
          ],
          "name": "stdout"
        }
      ]
    },
    {
      "cell_type": "code",
      "metadata": {
        "id": "itRfX1s4Ize-",
        "colab_type": "code",
        "colab": {}
      },
      "source": [
        "import pyspark"
      ],
      "execution_count": 13,
      "outputs": []
    },
    {
      "cell_type": "code",
      "metadata": {
        "id": "5PNLGDx6IzfE",
        "colab_type": "code",
        "colab": {}
      },
      "source": [
        "from pyspark.sql import SparkSession, functions as F\n",
        "#from pyspark.sql.window import Window as W\n",
        "#from pyspark import SparkConf\n",
        "\n",
        "from pyspark.ml import Pipeline\n",
        "from pyspark.sql.types import StructType, StructField, StringType, DoubleType, IntegerType, DecimalType\n",
        "\n",
        "#from pyspark.sql.functions import substring\n",
        "#from pyspark.sql.functions import monotonically_increasing_id\n",
        "#spark = SparkSession.builder.getOrCreate()"
      ],
      "execution_count": 14,
      "outputs": []
    },
    {
      "cell_type": "code",
      "metadata": {
        "jupyter": {
          "outputs_hidden": true
        },
        "id": "T0OfMzgbIzfL",
        "colab_type": "code",
        "colab": {}
      },
      "source": [
        "#conf = SparkConf()\n",
        "#spark = SparkSession.builder.getOrCreate()\n",
        "#    .config(conf=conf) \\\n",
        "#    .appName('Spark_Builder') \\"
      ],
      "execution_count": 15,
      "outputs": []
    },
    {
      "cell_type": "code",
      "metadata": {
        "id": "RoKb7y9IIzfQ",
        "colab_type": "code",
        "colab": {}
      },
      "source": [
        "#Every field in spark dataframe is string ??"
      ],
      "execution_count": 16,
      "outputs": []
    },
    {
      "cell_type": "code",
      "metadata": {
        "id": "ljt3z6HqIzfU",
        "colab_type": "code",
        "colab": {
          "base_uri": "https://localhost:8080/",
          "height": 403
        },
        "outputId": "7e47b06a-ed80-4e3a-aeed-c0d404f8180e"
      },
      "source": [
        "schema = StructType([StructField(\"user\", IntegerType(), True),\n",
        "                     StructField(\"patron\", IntegerType(), True),\n",
        "                     StructField(\"rating\", DoubleType(), True)])\n",
        "\n",
        "df_ratings = spark.createDataFrame(pd_ratings, schema=schema)\n",
        "df_ratings.show(15)\n"
      ],
      "execution_count": 17,
      "outputs": [
        {
          "output_type": "stream",
          "text": [
            "+----+------+------+\n",
            "|user|patron|rating|\n",
            "+----+------+------+\n",
            "|   1|     1|   3.0|\n",
            "|   2|     2|   3.0|\n",
            "|   3|     3|   3.0|\n",
            "|   3|     4|   3.0|\n",
            "|   4|     5|   3.0|\n",
            "|   5|     6|   3.0|\n",
            "|   6|     7|   3.0|\n",
            "|   7|     8|   3.0|\n",
            "|   8|     9|   3.0|\n",
            "|   9|    10|   3.0|\n",
            "|   9|    11|   3.0|\n",
            "|  10|    12|   3.0|\n",
            "|  11|    13|   3.0|\n",
            "|  11|    11|   3.0|\n",
            "|  12|    14|   3.0|\n",
            "+----+------+------+\n",
            "only showing top 15 rows\n",
            "\n"
          ],
          "name": "stdout"
        }
      ]
    },
    {
      "cell_type": "code",
      "metadata": {
        "id": "k0TgUUylIzfY",
        "colab_type": "code",
        "colab": {
          "base_uri": "https://localhost:8080/",
          "height": 219
        },
        "outputId": "1369c7c7-77b8-48eb-d9c1-87a647616c0f"
      },
      "source": [
        "schema = StructType([StructField(\"patron\", IntegerType(), True),\n",
        "                     StructField(\"desc\", StringType(), True),\n",
        "                     StructField(\"rating\", DoubleType(), True)])\n",
        "\n",
        "df_items = spark.createDataFrame(pd_items, schema=schema)\n",
        "df_items.show(5, False)"
      ],
      "execution_count": 18,
      "outputs": [
        {
          "output_type": "stream",
          "text": [
            "+------+----------------------------------+------+\n",
            "|patron|desc                              |rating|\n",
            "+------+----------------------------------+------+\n",
            "|3739  |FLOCK SBD LICHT NUD               |5.0   |\n",
            "|2439  |FL FLOCK ANTRA SB                 |5.0   |\n",
            "|2445  |FL FLOCK PINK BB                  |5.0   |\n",
            "|2444  |MM3-STITCH SLPRS                  |5.0   |\n",
            "|2443  |FE1 LACE BC EMERALD               |5.0   |\n",
            "+------+----------------------------------+------+\n",
            "only showing top 5 rows\n",
            "\n"
          ],
          "name": "stdout"
        }
      ]
    },
    {
      "cell_type": "code",
      "metadata": {
        "id": "B6b4pDRkIzfe",
        "colab_type": "code",
        "colab": {}
      },
      "source": [
        "'''Configuración del modelo ALS en Spark'''\n",
        "\n",
        "from pyspark.ml.recommendation import ALS\n",
        "\n",
        "rec = ALS(maxIter=10, regParam=0.01, userCol='user',\n",
        "           implicitPrefs=True,itemCol='patron',\n",
        "          ratingCol='rating', nonnegative=True, coldStartStrategy=\"drop\")\n",
        "\n",
        "\n",
        "#Parámetros:\n",
        "\n",
        "#* rank:        Number of latent factors in the model (defaults to 10).\n",
        "#* maxIter:     Maximum number of iterations to run (defaults to 10).\n",
        "#* regParam:    Regularization parameter in ALS (defaults to 1.0).\n",
        "#* nonnegative: Use nonnegative constraints for least squares (defaults to false).\n"
      ],
      "execution_count": 19,
      "outputs": []
    },
    {
      "cell_type": "markdown",
      "metadata": {
        "id": "XKu1GYnQIzfh",
        "colab_type": "text"
      },
      "source": [
        "### Entrenamiento"
      ]
    },
    {
      "cell_type": "code",
      "metadata": {
        "id": "bjCKumELIzfi",
        "colab_type": "code",
        "colab": {}
      },
      "source": [
        "rec_model = rec.fit(df_ratings)"
      ],
      "execution_count": 20,
      "outputs": []
    },
    {
      "cell_type": "markdown",
      "metadata": {
        "id": "DMCRgwW9Izfp",
        "colab_type": "text"
      },
      "source": [
        "### Transformación"
      ]
    },
    {
      "cell_type": "code",
      "metadata": {
        "id": "tu8Gfe_eIzfq",
        "colab_type": "code",
        "colab": {}
      },
      "source": [
        "df_predicted_ratings = rec_model.transform(df_ratings)\n",
        "df_predicted_ratings.show(5)"
      ],
      "execution_count": null,
      "outputs": []
    },
    {
      "cell_type": "markdown",
      "metadata": {
        "id": "cG1Op-zX-3DY",
        "colab_type": "text"
      },
      "source": [
        "Vamos a buscar un producto en la web"
      ]
    },
    {
      "cell_type": "code",
      "metadata": {
        "id": "sTVej5cQaKgD",
        "colab_type": "code",
        "colab": {
          "base_uri": "https://localhost:8080/",
          "height": 81
        },
        "outputId": "86dfb1c7-8ed8-49e6-8ebe-bcdc0294b2cc"
      },
      "source": [
        "\n",
        "item_example = pd_pat[pd_pat.rowid2==496]\n",
        "item_example "
      ],
      "execution_count": 22,
      "outputs": [
        {
          "output_type": "execute_result",
          "data": {
            "text/html": [
              "<div>\n",
              "<style scoped>\n",
              "    .dataframe tbody tr th:only-of-type {\n",
              "        vertical-align: middle;\n",
              "    }\n",
              "\n",
              "    .dataframe tbody tr th {\n",
              "        vertical-align: top;\n",
              "    }\n",
              "\n",
              "    .dataframe thead th {\n",
              "        text-align: right;\n",
              "    }\n",
              "</style>\n",
              "<table border=\"1\" class=\"dataframe\">\n",
              "  <thead>\n",
              "    <tr style=\"text-align: right;\">\n",
              "      <th></th>\n",
              "      <th>PATRON</th>\n",
              "      <th>rowid2</th>\n",
              "    </tr>\n",
              "  </thead>\n",
              "  <tbody>\n",
              "    <tr>\n",
              "      <th>628</th>\n",
              "      <td>4331540</td>\n",
              "      <td>496</td>\n",
              "    </tr>\n",
              "  </tbody>\n",
              "</table>\n",
              "</div>"
            ],
            "text/plain": [
              "      PATRON  rowid2\n",
              "628  4331540     496"
            ]
          },
          "metadata": {
            "tags": []
          },
          "execution_count": 22
        }
      ]
    },
    {
      "cell_type": "code",
      "metadata": {
        "id": "Jn-1b-leYpf9",
        "colab_type": "code",
        "colab": {
          "base_uri": "https://localhost:8080/",
          "height": 424
        },
        "outputId": "159d99eb-5bf2-40f2-e7fd-2f04be8dbb28"
      },
      "source": [
        "item_example = pd_data_raw[pd_data_raw.PATRON==4331540]\n",
        "item_example"
      ],
      "execution_count": 23,
      "outputs": [
        {
          "output_type": "execute_result",
          "data": {
            "text/html": [
              "<div>\n",
              "<style scoped>\n",
              "    .dataframe tbody tr th:only-of-type {\n",
              "        vertical-align: middle;\n",
              "    }\n",
              "\n",
              "    .dataframe tbody tr th {\n",
              "        vertical-align: top;\n",
              "    }\n",
              "\n",
              "    .dataframe thead th {\n",
              "        text-align: right;\n",
              "    }\n",
              "</style>\n",
              "<table border=\"1\" class=\"dataframe\">\n",
              "  <thead>\n",
              "    <tr style=\"text-align: right;\">\n",
              "      <th></th>\n",
              "      <th>USER_ID</th>\n",
              "      <th>PATRON</th>\n",
              "      <th>RATING</th>\n",
              "      <th>PATRON_DESC</th>\n",
              "    </tr>\n",
              "  </thead>\n",
              "  <tbody>\n",
              "    <tr>\n",
              "      <th>628</th>\n",
              "      <td>04687359</td>\n",
              "      <td>4331540</td>\n",
              "      <td>5</td>\n",
              "      <td>REG.CONTORNO G (AC853)2*3</td>\n",
              "    </tr>\n",
              "    <tr>\n",
              "      <th>3511</th>\n",
              "      <td>04703236</td>\n",
              "      <td>4331540</td>\n",
              "      <td>5</td>\n",
              "      <td>REG.CONTORNO G (AC853)2*3</td>\n",
              "    </tr>\n",
              "    <tr>\n",
              "      <th>8857</th>\n",
              "      <td>04733320</td>\n",
              "      <td>4331540</td>\n",
              "      <td>5</td>\n",
              "      <td>REG.CONTORNO G (AC853)2*3</td>\n",
              "    </tr>\n",
              "    <tr>\n",
              "      <th>15080</th>\n",
              "      <td>04773160</td>\n",
              "      <td>4331540</td>\n",
              "      <td>5</td>\n",
              "      <td>REG.CONTORNO G (AC853)2*3</td>\n",
              "    </tr>\n",
              "    <tr>\n",
              "      <th>19472</th>\n",
              "      <td>04802016</td>\n",
              "      <td>4331540</td>\n",
              "      <td>5</td>\n",
              "      <td>REG.CONTORNO G (AC853)2*3</td>\n",
              "    </tr>\n",
              "    <tr>\n",
              "      <th>...</th>\n",
              "      <td>...</td>\n",
              "      <td>...</td>\n",
              "      <td>...</td>\n",
              "      <td>...</td>\n",
              "    </tr>\n",
              "    <tr>\n",
              "      <th>2147139</th>\n",
              "      <td>9644-2334314</td>\n",
              "      <td>4331540</td>\n",
              "      <td>5</td>\n",
              "      <td>REG.CONTORNO G (AC853)2*3</td>\n",
              "    </tr>\n",
              "    <tr>\n",
              "      <th>2149054</th>\n",
              "      <td>9644-2396144</td>\n",
              "      <td>4331540</td>\n",
              "      <td>5</td>\n",
              "      <td>REG.CONTORNO G (AC853)2*3</td>\n",
              "    </tr>\n",
              "    <tr>\n",
              "      <th>2152258</th>\n",
              "      <td>9644-2490271</td>\n",
              "      <td>4331540</td>\n",
              "      <td>5</td>\n",
              "      <td>REG.CONTORNO G (AC853)2*3</td>\n",
              "    </tr>\n",
              "    <tr>\n",
              "      <th>2153271</th>\n",
              "      <td>9644-2510903</td>\n",
              "      <td>4331540</td>\n",
              "      <td>5</td>\n",
              "      <td>REG.CONTORNO G (AC853)2*3</td>\n",
              "    </tr>\n",
              "    <tr>\n",
              "      <th>2156788</th>\n",
              "      <td>9644-2609210</td>\n",
              "      <td>4331540</td>\n",
              "      <td>5</td>\n",
              "      <td>REG.CONTORNO G (AC853)2*3</td>\n",
              "    </tr>\n",
              "  </tbody>\n",
              "</table>\n",
              "<p>752 rows × 4 columns</p>\n",
              "</div>"
            ],
            "text/plain": [
              "              USER_ID   PATRON  RATING                         PATRON_DESC\n",
              "628          04687359  4331540       5  REG.CONTORNO G (AC853)2*3         \n",
              "3511         04703236  4331540       5  REG.CONTORNO G (AC853)2*3         \n",
              "8857         04733320  4331540       5  REG.CONTORNO G (AC853)2*3         \n",
              "15080        04773160  4331540       5  REG.CONTORNO G (AC853)2*3         \n",
              "19472        04802016  4331540       5  REG.CONTORNO G (AC853)2*3         \n",
              "...               ...      ...     ...                                 ...\n",
              "2147139  9644-2334314  4331540       5  REG.CONTORNO G (AC853)2*3         \n",
              "2149054  9644-2396144  4331540       5  REG.CONTORNO G (AC853)2*3         \n",
              "2152258  9644-2490271  4331540       5  REG.CONTORNO G (AC853)2*3         \n",
              "2153271  9644-2510903  4331540       5  REG.CONTORNO G (AC853)2*3         \n",
              "2156788  9644-2609210  4331540       5  REG.CONTORNO G (AC853)2*3         \n",
              "\n",
              "[752 rows x 4 columns]"
            ]
          },
          "metadata": {
            "tags": []
          },
          "execution_count": 23
        }
      ]
    },
    {
      "cell_type": "markdown",
      "metadata": {
        "id": "sejuAMFo_DoH",
        "colab_type": "text"
      },
      "source": [
        "\n",
        "https://womensecret.com/es/es/sujetadores/accesorios-sujetador/reguladores-de-contorno-grandes/4331540.html\n"
      ]
    },
    {
      "cell_type": "code",
      "metadata": {
        "id": "Q6HXVFnuDjnw",
        "colab_type": "code",
        "colab": {
          "base_uri": "https://localhost:8080/",
          "height": 274
        },
        "outputId": "4c5de03f-27a5-402c-c27d-1d7c313d3157"
      },
      "source": [
        "'''Escogemos un usuario y rankeamos las predicciones'''\n",
        "\n",
        "user = 500\n",
        "\n",
        "df_predicted_ratings.filter(F.col('user') == user)\\\n",
        "                 .orderBy(F.col('patron')).show(5)  \n",
        "\n",
        "df_predicted_ratings.filter(F.col('user') == user)\\\n",
        "                 .orderBy(F.col('prediction'), ascending=False).show(5)"
      ],
      "execution_count": 24,
      "outputs": [
        {
          "output_type": "stream",
          "text": [
            "+----+------+------+------------+\n",
            "|user|patron|rating|  prediction|\n",
            "+----+------+------+------------+\n",
            "| 500|   515|   5.0| 0.007245638|\n",
            "| 500|   524|   5.0|0.0025098284|\n",
            "+----+------+------+------------+\n",
            "\n",
            "+----+------+------+------------+\n",
            "|user|patron|rating|  prediction|\n",
            "+----+------+------+------------+\n",
            "| 500|   515|   5.0| 0.007245638|\n",
            "| 500|   524|   5.0|0.0025098284|\n",
            "+----+------+------+------------+\n",
            "\n"
          ],
          "name": "stdout"
        }
      ]
    },
    {
      "cell_type": "code",
      "metadata": {
        "id": "14QwJWJIDvqU",
        "colab_type": "code",
        "colab": {
          "base_uri": "https://localhost:8080/",
          "height": 146
        },
        "outputId": "ae067122-c826-4f37-ede4-94aa0db6790d"
      },
      "source": [
        "df_predicted_ratings.filter(F.col('user')==500).show()"
      ],
      "execution_count": 25,
      "outputs": [
        {
          "output_type": "stream",
          "text": [
            "+----+------+------+------------+\n",
            "|user|patron|rating|  prediction|\n",
            "+----+------+------+------------+\n",
            "| 500|   524|   5.0|0.0025098284|\n",
            "| 500|   515|   5.0| 0.007245638|\n",
            "+----+------+------+------------+\n",
            "\n"
          ],
          "name": "stdout"
        }
      ]
    },
    {
      "cell_type": "markdown",
      "metadata": {
        "id": "EeJPNt3c-iVA",
        "colab_type": "text"
      },
      "source": [
        "### Evaluación"
      ]
    },
    {
      "cell_type": "code",
      "metadata": {
        "id": "FwmG0wWeXVfI",
        "colab_type": "code",
        "colab": {
          "base_uri": "https://localhost:8080/",
          "height": 35
        },
        "outputId": "c49da531-9712-447e-a206-5bdc0a1ebc7d"
      },
      "source": [
        "from pyspark.ml.evaluation import RegressionEvaluator\n",
        "\n",
        "evaluator = RegressionEvaluator(metricName=\"rmse\", labelCol=\"rating\", predictionCol=\"prediction\")\n",
        "\n",
        "rmse = evaluator.evaluate(df_predicted_ratings)\n",
        "print(\"Root-mean-square error = \" + str(rmse))"
      ],
      "execution_count": 26,
      "outputs": [
        {
          "output_type": "stream",
          "text": [
            "Root-mean-square error = 4.785450890308498\n"
          ],
          "name": "stdout"
        }
      ]
    },
    {
      "cell_type": "code",
      "metadata": {
        "id": "fDhLldM8-o28",
        "colab_type": "code",
        "colab": {
          "base_uri": "https://localhost:8080/",
          "height": 206
        },
        "outputId": "b02493ce-9415-41c9-fce4-86360ab5d047"
      },
      "source": [
        "pd_predicted_ratings = df_predicted_ratings.withColumn('dif', F.col('rating')-F.col('prediction')).toPandas()\n",
        "pd_predicted_ratings.head()"
      ],
      "execution_count": 27,
      "outputs": [
        {
          "output_type": "execute_result",
          "data": {
            "text/html": [
              "<div>\n",
              "<style scoped>\n",
              "    .dataframe tbody tr th:only-of-type {\n",
              "        vertical-align: middle;\n",
              "    }\n",
              "\n",
              "    .dataframe tbody tr th {\n",
              "        vertical-align: top;\n",
              "    }\n",
              "\n",
              "    .dataframe thead th {\n",
              "        text-align: right;\n",
              "    }\n",
              "</style>\n",
              "<table border=\"1\" class=\"dataframe\">\n",
              "  <thead>\n",
              "    <tr style=\"text-align: right;\">\n",
              "      <th></th>\n",
              "      <th>user</th>\n",
              "      <th>patron</th>\n",
              "      <th>rating</th>\n",
              "      <th>prediction</th>\n",
              "      <th>dif</th>\n",
              "    </tr>\n",
              "  </thead>\n",
              "  <tbody>\n",
              "    <tr>\n",
              "      <th>0</th>\n",
              "      <td>280056</td>\n",
              "      <td>148</td>\n",
              "      <td>3.0</td>\n",
              "      <td>7.922431e-08</td>\n",
              "      <td>3.000000</td>\n",
              "    </tr>\n",
              "    <tr>\n",
              "      <th>1</th>\n",
              "      <td>140030</td>\n",
              "      <td>148</td>\n",
              "      <td>3.0</td>\n",
              "      <td>3.120475e-06</td>\n",
              "      <td>2.999997</td>\n",
              "    </tr>\n",
              "    <tr>\n",
              "      <th>2</th>\n",
              "      <td>280156</td>\n",
              "      <td>148</td>\n",
              "      <td>3.0</td>\n",
              "      <td>2.650066e-10</td>\n",
              "      <td>3.000000</td>\n",
              "    </tr>\n",
              "    <tr>\n",
              "      <th>3</th>\n",
              "      <td>97</td>\n",
              "      <td>148</td>\n",
              "      <td>3.0</td>\n",
              "      <td>2.650066e-10</td>\n",
              "      <td>3.000000</td>\n",
              "    </tr>\n",
              "    <tr>\n",
              "      <th>4</th>\n",
              "      <td>324400</td>\n",
              "      <td>463</td>\n",
              "      <td>5.0</td>\n",
              "      <td>2.062430e-02</td>\n",
              "      <td>4.979376</td>\n",
              "    </tr>\n",
              "  </tbody>\n",
              "</table>\n",
              "</div>"
            ],
            "text/plain": [
              "     user  patron  rating    prediction       dif\n",
              "0  280056     148     3.0  7.922431e-08  3.000000\n",
              "1  140030     148     3.0  3.120475e-06  2.999997\n",
              "2  280156     148     3.0  2.650066e-10  3.000000\n",
              "3      97     148     3.0  2.650066e-10  3.000000\n",
              "4  324400     463     5.0  2.062430e-02  4.979376"
            ]
          },
          "metadata": {
            "tags": []
          },
          "execution_count": 27
        }
      ]
    },
    {
      "cell_type": "code",
      "metadata": {
        "id": "bh37MfXa-pCP",
        "colab_type": "code",
        "colab": {
          "base_uri": "https://localhost:8080/",
          "height": 336
        },
        "outputId": "67ee8049-93e5-4194-8b7b-e0811bfd2b51"
      },
      "source": [
        "import matplotlib.pyplot as plt\n",
        "import seaborn as sns\n",
        "sns.set()\n",
        "\n",
        "plt.hist(pd_predicted_ratings.dif, bins=50)\n",
        "plt.show()"
      ],
      "execution_count": 28,
      "outputs": [
        {
          "output_type": "stream",
          "text": [
            "/usr/local/lib/python3.6/dist-packages/statsmodels/tools/_testing.py:19: FutureWarning: pandas.util.testing is deprecated. Use the functions in the public API at pandas.testing instead.\n",
            "  import pandas.util.testing as tm\n"
          ],
          "name": "stderr"
        },
        {
          "output_type": "display_data",
          "data": {
            "image/png": "[encoded data removed]",
            "text/plain": [
              "<Figure size 432x288 with 1 Axes>"
            ]
          },
          "metadata": {
            "tags": []
          }
        }
      ]
    },
    {
      "cell_type": "code",
      "metadata": {
        "id": "GNhCZmc2-pGj",
        "colab_type": "code",
        "colab": {
          "base_uri": "https://localhost:8080/",
          "height": 184
        },
        "outputId": "80a78353-3ff8-4dab-c991-6d389b979a65"
      },
      "source": [
        "%%time\n",
        "# Las 5 mejores peliculas para todos los usuarios\n",
        "userRecs = rec_model.recommendForAllUsers(10)\n",
        "\n",
        "# Cambio de usuario\n",
        "user = 30500\n",
        "\n",
        "# Filtramos para nuestro usuario concreto\n",
        "userRecs.filter(F.col('user')==user).show(1,False)\n"
      ],
      "execution_count": 29,
      "outputs": [
        {
          "output_type": "stream",
          "text": [
            "+-----+------------------------------------------------------------------------------------------------------------------------------------------------------------------------------------------------+\n",
            "|user |recommendations                                                                                                                                                                                 |\n",
            "+-----+------------------------------------------------------------------------------------------------------------------------------------------------------------------------------------------------+\n",
            "|30500|[[603, 0.11059806], [534, 0.10685304], [194, 0.10305053], [612, 0.10243335], [994, 0.09458501], [732, 0.08386179], [381, 0.0817758], [470, 0.080793366], [1106, 0.078627706], [528, 0.07830925]]|\n",
            "+-----+------------------------------------------------------------------------------------------------------------------------------------------------------------------------------------------------+\n",
            "\n",
            "CPU times: user 72.5 ms, sys: 14.6 ms, total: 87.1 ms\n",
            "Wall time: 3min 38s\n"
          ],
          "name": "stdout"
        }
      ]
    },
    {
      "cell_type": "code",
      "metadata": {
        "id": "S9qyWjI0MR5r",
        "colab_type": "code",
        "colab": {
          "base_uri": "https://localhost:8080/",
          "height": 433
        },
        "outputId": "f479bea1-c846-4d9c-e329-de2d6c4dbfa5"
      },
      "source": [
        "%%time\n",
        "(training, test) = df_ratings.randomSplit([0.8, 0.2])\n",
        "# Entrenamos con training set\n",
        "als = ALS(maxIter=5, regParam=0.11, userCol=\"user\", itemCol=\"patron\", ratingCol=\"rating\",  coldStartStrategy=\"drop\")\n",
        "model = als.fit(training)\n",
        "\n",
        "# Testeamos con testing set\n",
        "predictions = model.transform(test)\n",
        "evaluator = RegressionEvaluator(metricName=\"rmse\", labelCol=\"rating\", predictionCol=\"prediction\")\n",
        "\n",
        "# Contabilizamos el error\n",
        "rmse = evaluator.evaluate(predictions)\n",
        "print(\"Root-mean-square error = \" + str(rmse))\n",
        "\n",
        "pd_predictions = predictions.withColumn('dif', F.col('rating')-F.col('prediction')).toPandas()\n",
        "plt.hist(pd_predictions.dif, bins=50)\n",
        "plt.show()\n",
        "\n",
        "userRecs = model.recommendForAllUsers(5)\n",
        "userRecs.filter(F.col('user')==3).show(1,False)"
      ],
      "execution_count": 30,
      "outputs": [
        {
          "output_type": "stream",
          "text": [
            "Root-mean-square error = 1.1961895363305002\n"
          ],
          "name": "stdout"
        },
        {
          "output_type": "display_data",
          "data": {
            "image/png": "[encoded data removed]",
            "text/plain": [
              "<Figure size 432x288 with 1 Axes>"
            ]
          },
          "metadata": {
            "tags": []
          }
        },
        {
          "output_type": "stream",
          "text": [
            "+----+---------------------------------------------------------------------------------------+\n",
            "|user|recommendations                                                                        |\n",
            "+----+---------------------------------------------------------------------------------------+\n",
            "|3   |[[2964, 3.0169885], [3, 2.9310188], [4, 2.9310188], [3510, 2.6271029], [3533, 2.59558]]|\n",
            "+----+---------------------------------------------------------------------------------------+\n",
            "\n",
            "CPU times: user 2.38 s, sys: 72.9 ms, total: 2.46 s\n",
            "Wall time: 3min 38s\n"
          ],
          "name": "stdout"
        }
      ]
    },
    {
      "cell_type": "code",
      "metadata": {
        "id": "YFKMFGryMR0t",
        "colab_type": "code",
        "colab": {
          "base_uri": "https://localhost:8080/",
          "height": 72
        },
        "outputId": "4b0d7e79-4715-4963-ad23-8c3372a652a9"
      },
      "source": [
        "%%time\n",
        "from pyspark.ml.tuning import CrossValidator, ParamGridBuilder\n",
        "\n",
        "(trainingRatings, validationRatings) = df_ratings.randomSplit([80.0, 20.0])\n",
        "evaluator = RegressionEvaluator(metricName='rmse', labelCol='rating', predictionCol='prediction')\n",
        "\n",
        "paramGrid = ParamGridBuilder()\\\n",
        "                .addGrid(als.rank, [5, 10])\\\n",
        "                .addGrid(als.maxIter, [3, 5, 7, 11])\\\n",
        "                .addGrid(als.regParam, [0.01, 0.03, 0.05, 0.07, 0.11]).build()\n",
        "\n",
        "crossval = CrossValidator(estimator=als, estimatorParamMaps=paramGrid, evaluator=evaluator, numFolds=10)\n",
        "cvModel = crossval.fit(trainingRatings)\n",
        "predictions = cvModel.transform(validationRatings)\n",
        "bestModel = cvModel.bestModel\n",
        "\n",
        "print('The root mean squared error for our model is: {}'.format(evaluator.evaluate(predictions.na.drop())))"
      ],
      "execution_count": 31,
      "outputs": [
        {
          "output_type": "stream",
          "text": [
            "The root mean squared error for our model is: 1.1075121466334175\n",
            "CPU times: user 3.39 s, sys: 966 ms, total: 4.36 s\n",
            "Wall time: 11min 36s\n"
          ],
          "name": "stdout"
        }
      ]
    },
    {
      "cell_type": "code",
      "metadata": {
        "id": "Fh4IRMya_c4m",
        "colab_type": "code",
        "colab": {
          "base_uri": "https://localhost:8080/",
          "height": 110
        },
        "outputId": "3b3e8da5-7799-49b3-ef14-26cfdba915a8"
      },
      "source": [
        "cvModel.bestModel.extractParamMap()"
      ],
      "execution_count": 32,
      "outputs": [
        {
          "output_type": "execute_result",
          "data": {
            "text/plain": [
              "{Param(parent='ALS_2e629f075101', name='coldStartStrategy', doc='strategy for dealing with unknown or new users/items at prediction time. This may be useful in cross-validation or production scenarios, for handling user/item ids the model has not seen in the training data. Supported values: nan,drop.'): 'drop',\n",
              " Param(parent='ALS_2e629f075101', name='itemCol', doc='column name for item ids. Ids must be within the integer value range.'): 'patron',\n",
              " Param(parent='ALS_2e629f075101', name='predictionCol', doc='prediction column name'): 'prediction',\n",
              " Param(parent='ALS_2e629f075101', name='userCol', doc='column name for user ids. Ids must be within the integer value range.'): 'user'}"
            ]
          },
          "metadata": {
            "tags": []
          },
          "execution_count": 32
        }
      ]
    },
    {
      "cell_type": "code",
      "metadata": {
        "id": "p9Uy0XKC_0pB",
        "colab_type": "code",
        "colab": {
          "base_uri": "https://localhost:8080/",
          "height": 490
        },
        "outputId": "8ccee7df-56ca-4595-84d1-4c266f10ccca"
      },
      "source": [
        "bestModel._java_obj.getRegParam()"
      ],
      "execution_count": 74,
      "outputs": [
        {
          "output_type": "error",
          "ename": "Py4JError",
          "evalue": "ignored",
          "traceback": [
            "\u001b[0;31m---------------------------------------------------------------------------\u001b[0m",
            "\u001b[0;31mPy4JError\u001b[0m                                 Traceback (most recent call last)",
            "\u001b[0;32m<ipython-input-74-fa076e5e0077>\u001b[0m in \u001b[0;36m<module>\u001b[0;34m()\u001b[0m\n\u001b[0;32m----> 1\u001b[0;31m \u001b[0mbestModel\u001b[0m\u001b[0;34m.\u001b[0m\u001b[0m_java_obj\u001b[0m\u001b[0;34m.\u001b[0m\u001b[0mgetRegParam\u001b[0m\u001b[0;34m(\u001b[0m\u001b[0;34m)\u001b[0m\u001b[0;34m\u001b[0m\u001b[0;34m\u001b[0m\u001b[0m\n\u001b[0m",
            "\u001b[0;32m/usr/local/lib/python3.6/dist-packages/py4j/java_gateway.py\u001b[0m in \u001b[0;36m__call__\u001b[0;34m(self, *args)\u001b[0m\n\u001b[1;32m   1255\u001b[0m         \u001b[0manswer\u001b[0m \u001b[0;34m=\u001b[0m \u001b[0mself\u001b[0m\u001b[0;34m.\u001b[0m\u001b[0mgateway_client\u001b[0m\u001b[0;34m.\u001b[0m\u001b[0msend_command\u001b[0m\u001b[0;34m(\u001b[0m\u001b[0mcommand\u001b[0m\u001b[0;34m)\u001b[0m\u001b[0;34m\u001b[0m\u001b[0;34m\u001b[0m\u001b[0m\n\u001b[1;32m   1256\u001b[0m         return_value = get_return_value(\n\u001b[0;32m-> 1257\u001b[0;31m             answer, self.gateway_client, self.target_id, self.name)\n\u001b[0m\u001b[1;32m   1258\u001b[0m \u001b[0;34m\u001b[0m\u001b[0m\n\u001b[1;32m   1259\u001b[0m         \u001b[0;32mfor\u001b[0m \u001b[0mtemp_arg\u001b[0m \u001b[0;32min\u001b[0m \u001b[0mtemp_args\u001b[0m\u001b[0;34m:\u001b[0m\u001b[0;34m\u001b[0m\u001b[0;34m\u001b[0m\u001b[0m\n",
            "\u001b[0;32m/usr/local/lib/python3.6/dist-packages/pyspark/sql/utils.py\u001b[0m in \u001b[0;36mdeco\u001b[0;34m(*a, **kw)\u001b[0m\n\u001b[1;32m     61\u001b[0m     \u001b[0;32mdef\u001b[0m \u001b[0mdeco\u001b[0m\u001b[0;34m(\u001b[0m\u001b[0;34m*\u001b[0m\u001b[0ma\u001b[0m\u001b[0;34m,\u001b[0m \u001b[0;34m**\u001b[0m\u001b[0mkw\u001b[0m\u001b[0;34m)\u001b[0m\u001b[0;34m:\u001b[0m\u001b[0;34m\u001b[0m\u001b[0;34m\u001b[0m\u001b[0m\n\u001b[1;32m     62\u001b[0m         \u001b[0;32mtry\u001b[0m\u001b[0;34m:\u001b[0m\u001b[0;34m\u001b[0m\u001b[0;34m\u001b[0m\u001b[0m\n\u001b[0;32m---> 63\u001b[0;31m             \u001b[0;32mreturn\u001b[0m \u001b[0mf\u001b[0m\u001b[0;34m(\u001b[0m\u001b[0;34m*\u001b[0m\u001b[0ma\u001b[0m\u001b[0;34m,\u001b[0m \u001b[0;34m**\u001b[0m\u001b[0mkw\u001b[0m\u001b[0;34m)\u001b[0m\u001b[0;34m\u001b[0m\u001b[0;34m\u001b[0m\u001b[0m\n\u001b[0m\u001b[1;32m     64\u001b[0m         \u001b[0;32mexcept\u001b[0m \u001b[0mpy4j\u001b[0m\u001b[0;34m.\u001b[0m\u001b[0mprotocol\u001b[0m\u001b[0;34m.\u001b[0m\u001b[0mPy4JJavaError\u001b[0m \u001b[0;32mas\u001b[0m \u001b[0me\u001b[0m\u001b[0;34m:\u001b[0m\u001b[0;34m\u001b[0m\u001b[0;34m\u001b[0m\u001b[0m\n\u001b[1;32m     65\u001b[0m             \u001b[0ms\u001b[0m \u001b[0;34m=\u001b[0m \u001b[0me\u001b[0m\u001b[0;34m.\u001b[0m\u001b[0mjava_exception\u001b[0m\u001b[0;34m.\u001b[0m\u001b[0mtoString\u001b[0m\u001b[0;34m(\u001b[0m\u001b[0;34m)\u001b[0m\u001b[0;34m\u001b[0m\u001b[0;34m\u001b[0m\u001b[0m\n",
            "\u001b[0;32m/usr/local/lib/python3.6/dist-packages/py4j/protocol.py\u001b[0m in \u001b[0;36mget_return_value\u001b[0;34m(answer, gateway_client, target_id, name)\u001b[0m\n\u001b[1;32m    330\u001b[0m                 raise Py4JError(\n\u001b[1;32m    331\u001b[0m                     \u001b[0;34m\"An error occurred while calling {0}{1}{2}. Trace:\\n{3}\\n\"\u001b[0m\u001b[0;34m.\u001b[0m\u001b[0;34m\u001b[0m\u001b[0;34m\u001b[0m\u001b[0m\n\u001b[0;32m--> 332\u001b[0;31m                     format(target_id, \".\", name, value))\n\u001b[0m\u001b[1;32m    333\u001b[0m         \u001b[0;32melse\u001b[0m\u001b[0;34m:\u001b[0m\u001b[0;34m\u001b[0m\u001b[0;34m\u001b[0m\u001b[0m\n\u001b[1;32m    334\u001b[0m             raise Py4JError(\n",
            "\u001b[0;31mPy4JError\u001b[0m: An error occurred while calling o4872.getRegParam. Trace:\npy4j.Py4JException: Method getRegParam([]) does not exist\n\tat py4j.reflection.ReflectionEngine.getMethod(ReflectionEngine.java:318)\n\tat py4j.reflection.ReflectionEngine.getMethod(ReflectionEngine.java:326)\n\tat py4j.Gateway.invoke(Gateway.java:274)\n\tat py4j.commands.AbstractCommand.invokeMethod(AbstractCommand.java:132)\n\tat py4j.commands.CallCommand.execute(CallCommand.java:79)\n\tat py4j.GatewayConnection.run(GatewayConnection.java:238)\n\tat java.lang.Thread.run(Thread.java:748)\n\n"
          ]
        }
      ]
    },
    {
      "cell_type": "code",
      "metadata": {
        "id": "UuYtBDWb_0lo",
        "colab_type": "code",
        "colab": {
          "base_uri": "https://localhost:8080/",
          "height": 110
        },
        "outputId": "a4faf774-3312-41a2-dd04-ca962643d815"
      },
      "source": [
        "cvModel.bestModel.params"
      ],
      "execution_count": 46,
      "outputs": [
        {
          "output_type": "execute_result",
          "data": {
            "text/plain": [
              "[Param(parent='ALS_2e629f075101', name='coldStartStrategy', doc='strategy for dealing with unknown or new users/items at prediction time. This may be useful in cross-validation or production scenarios, for handling user/item ids the model has not seen in the training data. Supported values: nan,drop.'),\n",
              " Param(parent='ALS_2e629f075101', name='itemCol', doc='column name for item ids. Ids must be within the integer value range.'),\n",
              " Param(parent='ALS_2e629f075101', name='predictionCol', doc='prediction column name'),\n",
              " Param(parent='ALS_2e629f075101', name='userCol', doc='column name for user ids. Ids must be within the integer value range.')]"
            ]
          },
          "metadata": {
            "tags": []
          },
          "execution_count": 46
        }
      ]
    },
    {
      "cell_type": "code",
      "metadata": {
        "id": "-f_IFPjK_0h1",
        "colab_type": "code",
        "colab": {
          "base_uri": "https://localhost:8080/",
          "height": 35
        },
        "outputId": "b02c86bd-897d-4c2f-92f1-e8a4e66fe9b6"
      },
      "source": [
        "cvModel.bestModel.getParam('itemCol')"
      ],
      "execution_count": 40,
      "outputs": [
        {
          "output_type": "execute_result",
          "data": {
            "text/plain": [
              "Param(parent='ALS_2e629f075101', name='itemCol', doc='column name for item ids. Ids must be within the integer value range.')"
            ]
          },
          "metadata": {
            "tags": []
          },
          "execution_count": 40
        }
      ]
    },
    {
      "cell_type": "markdown",
      "metadata": {
        "id": "UpIC3Z8gHkLu",
        "colab_type": "text"
      },
      "source": [
        "## TUNING A MANUBRIO"
      ]
    },
    {
      "cell_type": "code",
      "metadata": {
        "id": "Vk5gpc8ZFZPF",
        "colab_type": "code",
        "colab": {
          "base_uri": "https://localhost:8080/",
          "height": 323
        },
        "outputId": "1a891b5d-1d3b-433d-eb6a-14ec1effe462"
      },
      "source": [
        "%%time\n",
        "(training, test) = df_ratings.randomSplit([0.8, 0.2])\n",
        "# Entrenamos con training set\n",
        "als = ALS(maxIter=5, regParam=0.11, userCol=\"user\", itemCol=\"patron\", ratingCol=\"rating\",  coldStartStrategy=\"drop\")\n",
        "model = als.fit(training)\n",
        "\n",
        "# Testeamos con testing set\n",
        "predictions = model.transform(test)\n",
        "evaluator = RegressionEvaluator(metricName=\"rmse\", labelCol=\"rating\", predictionCol=\"prediction\")\n",
        "\n",
        "# Contabilizamos el error\n",
        "rmse = evaluator.evaluate(predictions)\n",
        "print(\"Root-mean-square error = \" + str(rmse))\n",
        "\n",
        "pd_predictions = predictions.withColumn('dif', F.col('rating')-F.col('prediction')).toPandas()\n",
        "plt.hist(pd_predictions.dif, bins=50)\n",
        "plt.show()"
      ],
      "execution_count": 47,
      "outputs": [
        {
          "output_type": "stream",
          "text": [
            "Root-mean-square error = 1.1964427722979287\n"
          ],
          "name": "stdout"
        },
        {
          "output_type": "display_data",
          "data": {
            "image/png": "[encoded data removed]",
            "text/plain": [
              "<Figure size 432x288 with 1 Axes>"
            ]
          },
          "metadata": {
            "tags": []
          }
        },
        {
          "output_type": "stream",
          "text": [
            "CPU times: user 3.28 s, sys: 114 ms, total: 3.39 s\n",
            "Wall time: 1min 8s\n"
          ],
          "name": "stdout"
        }
      ]
    },
    {
      "cell_type": "code",
      "metadata": {
        "id": "FnJEH9tkFFO7",
        "colab_type": "code",
        "colab": {
          "base_uri": "https://localhost:8080/",
          "height": 323
        },
        "outputId": "9bc9f326-a7cb-469a-c516-4e23553447a6"
      },
      "source": [
        "%%time\n",
        "(training, test) = df_ratings.randomSplit([0.8, 0.2])\n",
        "# Entrenamos con training set\n",
        "als = ALS(maxIter=5, regParam=0.01, userCol=\"user\", itemCol=\"patron\", ratingCol=\"rating\",  coldStartStrategy=\"drop\")\n",
        "model = als.fit(training)\n",
        "\n",
        "# Testeamos con testing set\n",
        "predictions = model.transform(test)\n",
        "evaluator = RegressionEvaluator(metricName=\"rmse\", labelCol=\"rating\", predictionCol=\"prediction\")\n",
        "\n",
        "# Contabilizamos el error\n",
        "rmse = evaluator.evaluate(predictions)\n",
        "print(\"Root-mean-square error = \" + str(rmse))\n",
        "\n",
        "pd_predictions = predictions.withColumn('dif', F.col('rating')-F.col('prediction')).toPandas()\n",
        "plt.hist(pd_predictions.dif, bins=50)\n",
        "plt.show()"
      ],
      "execution_count": 48,
      "outputs": [
        {
          "output_type": "stream",
          "text": [
            "Root-mean-square error = 4.47605898957128\n"
          ],
          "name": "stdout"
        },
        {
          "output_type": "display_data",
          "data": {
            "image/png": "[encoded data removed]",
            "text/plain": [
              "<Figure size 432x288 with 1 Axes>"
            ]
          },
          "metadata": {
            "tags": []
          }
        },
        {
          "output_type": "stream",
          "text": [
            "CPU times: user 2.72 s, sys: 75.6 ms, total: 2.8 s\n",
            "Wall time: 1min 5s\n"
          ],
          "name": "stdout"
        }
      ]
    },
    {
      "cell_type": "code",
      "metadata": {
        "id": "7t8HHgt1FFG3",
        "colab_type": "code",
        "colab": {
          "base_uri": "https://localhost:8080/",
          "height": 323
        },
        "outputId": "7694e518-a5bb-4397-834e-37c9d9e4881e"
      },
      "source": [
        "%%time\n",
        "(training, test) = df_ratings.randomSplit([0.8, 0.2])\n",
        "# Entrenamos con training set\n",
        "als = ALS(maxIter=10, regParam=0.01, userCol=\"user\", itemCol=\"patron\", ratingCol=\"rating\",  coldStartStrategy=\"drop\")\n",
        "model = als.fit(training)\n",
        "\n",
        "# Testeamos con testing set\n",
        "predictions = model.transform(test)\n",
        "evaluator = RegressionEvaluator(metricName=\"rmse\", labelCol=\"rating\", predictionCol=\"prediction\")\n",
        "\n",
        "# Contabilizamos el error\n",
        "rmse = evaluator.evaluate(predictions)\n",
        "print(\"Root-mean-square error = \" + str(rmse))\n",
        "\n",
        "pd_predictions = predictions.withColumn('dif', F.col('rating')-F.col('prediction')).toPandas()\n",
        "plt.hist(pd_predictions.dif, bins=50)\n",
        "plt.show()"
      ],
      "execution_count": 49,
      "outputs": [
        {
          "output_type": "stream",
          "text": [
            "Root-mean-square error = 2.931939706263076\n"
          ],
          "name": "stdout"
        },
        {
          "output_type": "display_data",
          "data": {
            "image/png": "[encoded data removed]",
            "text/plain": [
              "<Figure size 432x288 with 1 Axes>"
            ]
          },
          "metadata": {
            "tags": []
          }
        },
        {
          "output_type": "stream",
          "text": [
            "CPU times: user 2.77 s, sys: 87.6 ms, total: 2.85 s\n",
            "Wall time: 1min 17s\n"
          ],
          "name": "stdout"
        }
      ]
    },
    {
      "cell_type": "code",
      "metadata": {
        "id": "m8ST-q_CFE6i",
        "colab_type": "code",
        "colab": {
          "base_uri": "https://localhost:8080/",
          "height": 323
        },
        "outputId": "8a156930-2ed2-4e19-98cf-c30bad8f2a48"
      },
      "source": [
        "%%time\n",
        "(training, test) = df_ratings.randomSplit([0.8, 0.2])\n",
        "# Entrenamos con training set\n",
        "als = ALS(maxIter=10, regParam=0.11, userCol=\"user\", itemCol=\"patron\", ratingCol=\"rating\",  coldStartStrategy=\"drop\")\n",
        "model = als.fit(training)\n",
        "\n",
        "# Testeamos con testing set\n",
        "predictions = model.transform(test)\n",
        "evaluator = RegressionEvaluator(metricName=\"rmse\", labelCol=\"rating\", predictionCol=\"prediction\")\n",
        "\n",
        "# Contabilizamos el error\n",
        "rmse = evaluator.evaluate(predictions)\n",
        "print(\"Root-mean-square error = \" + str(rmse))\n",
        "\n",
        "pd_predictions = predictions.withColumn('dif', F.col('rating')-F.col('prediction')).toPandas()\n",
        "plt.hist(pd_predictions.dif, bins=50)\n",
        "plt.show()"
      ],
      "execution_count": 50,
      "outputs": [
        {
          "output_type": "stream",
          "text": [
            "Root-mean-square error = 0.5234690627569621\n"
          ],
          "name": "stdout"
        },
        {
          "output_type": "display_data",
          "data": {
            "image/png": "[encoded data removed]",
            "text/plain": [
              "<Figure size 432x288 with 1 Axes>"
            ]
          },
          "metadata": {
            "tags": []
          }
        },
        {
          "output_type": "stream",
          "text": [
            "CPU times: user 2.8 s, sys: 100 ms, total: 2.9 s\n",
            "Wall time: 1min 22s\n"
          ],
          "name": "stdout"
        }
      ]
    },
    {
      "cell_type": "code",
      "metadata": {
        "id": "xAwZGeigG6An",
        "colab_type": "code",
        "colab": {
          "base_uri": "https://localhost:8080/",
          "height": 323
        },
        "outputId": "fed67306-c9eb-460c-b4f1-43718bcce630"
      },
      "source": [
        "%%time\n",
        "(training, test) = df_ratings.randomSplit([0.8, 0.2])\n",
        "# Entrenamos con training set\n",
        "als = ALS(maxIter=10, regParam=0.05, userCol=\"user\", itemCol=\"patron\", ratingCol=\"rating\",  coldStartStrategy=\"drop\")\n",
        "model = als.fit(training)\n",
        "\n",
        "# Testeamos con testing set\n",
        "predictions = model.transform(test)\n",
        "evaluator = RegressionEvaluator(metricName=\"rmse\", labelCol=\"rating\", predictionCol=\"prediction\")\n",
        "\n",
        "# Contabilizamos el error\n",
        "rmse = evaluator.evaluate(predictions)\n",
        "print(\"Root-mean-square error = \" + str(rmse))\n",
        "\n",
        "pd_predictions = predictions.withColumn('dif', F.col('rating')-F.col('prediction')).toPandas()\n",
        "plt.hist(pd_predictions.dif, bins=50)\n",
        "plt.show()"
      ],
      "execution_count": 51,
      "outputs": [
        {
          "output_type": "stream",
          "text": [
            "Root-mean-square error = 1.0719304489969876\n"
          ],
          "name": "stdout"
        },
        {
          "output_type": "display_data",
          "data": {
            "image/png": "[encoded data removed]",
            "text/plain": [
              "<Figure size 432x288 with 1 Axes>"
            ]
          },
          "metadata": {
            "tags": []
          }
        },
        {
          "output_type": "stream",
          "text": [
            "CPU times: user 3.23 s, sys: 105 ms, total: 3.34 s\n",
            "Wall time: 1min 24s\n"
          ],
          "name": "stdout"
        }
      ]
    },
    {
      "cell_type": "code",
      "metadata": {
        "id": "uf7xt6JQHFvv",
        "colab_type": "code",
        "colab": {
          "base_uri": "https://localhost:8080/",
          "height": 323
        },
        "outputId": "9c2a91d4-7d0e-4ecd-80c7-c2d358b72675"
      },
      "source": [
        "%%time\n",
        "(training, test) = df_ratings.randomSplit([0.8, 0.2])\n",
        "# Entrenamos con training set\n",
        "als = ALS(maxIter=5, regParam=0.05, userCol=\"user\", itemCol=\"patron\", ratingCol=\"rating\",  coldStartStrategy=\"drop\")\n",
        "model = als.fit(training)\n",
        "\n",
        "# Testeamos con testing set\n",
        "predictions = model.transform(test)\n",
        "evaluator = RegressionEvaluator(metricName=\"rmse\", labelCol=\"rating\", predictionCol=\"prediction\")\n",
        "\n",
        "# Contabilizamos el error\n",
        "rmse = evaluator.evaluate(predictions)\n",
        "print(\"Root-mean-square error = \" + str(rmse))\n",
        "\n",
        "pd_predictions = predictions.withColumn('dif', F.col('rating')-F.col('prediction')).toPandas()\n",
        "plt.hist(pd_predictions.dif, bins=50)\n",
        "plt.show()"
      ],
      "execution_count": 52,
      "outputs": [
        {
          "output_type": "stream",
          "text": [
            "Root-mean-square error = 2.132330477020464\n"
          ],
          "name": "stdout"
        },
        {
          "output_type": "display_data",
          "data": {
            "image/png": "[encoded data removed]",
            "text/plain": [
              "<Figure size 432x288 with 1 Axes>"
            ]
          },
          "metadata": {
            "tags": []
          }
        },
        {
          "output_type": "stream",
          "text": [
            "CPU times: user 2.95 s, sys: 93.9 ms, total: 3.05 s\n",
            "Wall time: 1min 9s\n"
          ],
          "name": "stdout"
        }
      ]
    },
    {
      "cell_type": "code",
      "metadata": {
        "id": "4zxDfTiLK8mP",
        "colab_type": "code",
        "colab": {
          "base_uri": "https://localhost:8080/",
          "height": 35
        },
        "outputId": "d33cdbbe-40d8-422e-f0d7-2a005f0e4100"
      },
      "source": [
        " # Loplop\n",
        "\n",
        " maxiter = (10)\n",
        " regparam = (0.11)\n",
        " maxiter\n"
      ],
      "execution_count": 59,
      "outputs": [
        {
          "output_type": "execute_result",
          "data": {
            "text/plain": [
              "10"
            ]
          },
          "metadata": {
            "tags": []
          },
          "execution_count": 59
        }
      ]
    },
    {
      "cell_type": "code",
      "metadata": {
        "id": "swEcXat8J095",
        "colab_type": "code",
        "colab": {
          "base_uri": "https://localhost:8080/",
          "height": 72
        },
        "outputId": "c49af85e-ecf5-436b-e5d7-d23bf938c60a"
      },
      "source": [
        "\n",
        "(training, test) = df_ratings.randomSplit([0.8, 0.2])\n",
        "# Entrenamos con training set\n",
        "als = ALS(maxIter = 10, regParam = 0.2, userCol=\"user\", itemCol=\"patron\", ratingCol=\"rating\",  coldStartStrategy=\"drop\")\n",
        "model = als.fit(training)\n",
        "\n",
        "# Testeamos con testing set\n",
        "predictions = model.transform(test)\n",
        "evaluator = RegressionEvaluator(metricName=\"rmse\", labelCol=\"rating\", predictionCol=\"prediction\")\n",
        "\n",
        "# Contabilizamos el error\n",
        "rmse = evaluator.evaluate(predictions)\n",
        "print(\"maxIter: \" + str(maxiter))\n",
        "print(\"regparam: \" + str(regparam))\n",
        "print(\"Root-mean-square error = \" + str(rmse))\n",
        "print(\"---------------------------\")"
      ],
      "execution_count": 61,
      "outputs": [
        {
          "output_type": "stream",
          "text": [
            "maxIter: 10\n",
            "regparam: 0.11\n",
            "Root-mean-square error = 0.4548116690024885\n"
          ],
          "name": "stdout"
        }
      ]
    },
    {
      "cell_type": "code",
      "metadata": {
        "id": "ycbAxT75QfxM",
        "colab_type": "code",
        "colab": {
          "base_uri": "https://localhost:8080/",
          "height": 72
        },
        "outputId": "04a86f2a-9006-4718-bfa5-acc4d5d3818c"
      },
      "source": [
        "(training, test) = df_ratings.randomSplit([0.8, 0.2])\n",
        "# Entrenamos con training set\n",
        "als = ALS(maxIter = 10, regParam = 1, userCol=\"user\", itemCol=\"patron\", ratingCol=\"rating\",  coldStartStrategy=\"drop\")\n",
        "model = als.fit(training)\n",
        "\n",
        "# Testeamos con testing set\n",
        "predictions = model.transform(test)\n",
        "evaluator = RegressionEvaluator(metricName=\"rmse\", labelCol=\"rating\", predictionCol=\"prediction\")\n",
        "\n",
        "# Contabilizamos el error\n",
        "rmse = evaluator.evaluate(predictions)\n",
        "print(\"maxIter: \" + str(maxiter))\n",
        "print(\"regparam: \" + str(regparam))\n",
        "print(\"Root-mean-square error = \" + str(rmse))\n",
        "\n",
        "#* rank:        Number of latent factors in the model (defaults to 10).\n",
        "#* maxIter:     Maximum number of iterations to run (defaults to 10).\n",
        "#* regParam:    Regularization parameter in ALS (defaults to 1.0).\n",
        "#* nonnegative: Use nonnegative constraints for least squares (defaults to false).\n"
      ],
      "execution_count": 62,
      "outputs": [
        {
          "output_type": "stream",
          "text": [
            "maxIter: 10\n",
            "regparam: 0.11\n",
            "Root-mean-square error = 1.0616557141346505\n"
          ],
          "name": "stdout"
        }
      ]
    },
    {
      "cell_type": "code",
      "metadata": {
        "id": "Nej3sn96UClt",
        "colab_type": "code",
        "colab": {
          "base_uri": "https://localhost:8080/",
          "height": 348
        },
        "outputId": "7eddece3-663a-4d69-99ba-477344228033"
      },
      "source": [
        "%%time\n",
        "(training, test) = df_ratings.randomSplit([0.8, 0.2])\n",
        "# Entrenamos con training set\n",
        "maxiter = 10\n",
        "regparam = 0.2\n",
        "als = ALS(maxIter = maxiter, regParam = regparam, userCol=\"user\", itemCol=\"patron\", ratingCol=\"rating\",  coldStartStrategy=\"drop\")\n",
        "model = als.fit(training)\n",
        "\n",
        "# Testeamos con testing set\n",
        "predictions = model.transform(test)\n",
        "evaluator = RegressionEvaluator(metricName=\"rmse\", labelCol=\"rating\", predictionCol=\"prediction\")\n",
        "\n",
        "# Contabilizamos el error\n",
        "rmse = evaluator.evaluate(predictions)\n",
        "print(\"maxIter: \" + str(maxiter))\n",
        "print(\"regparam: \" + str(regparam))\n",
        "print(\"Root-mean-square error = \" + str(rmse))\n",
        "print(\"---------------------------\")\n",
        "(training, test) = df_ratings.randomSplit([0.8, 0.2])\n",
        "# Entrenamos con training set\n",
        "maxiter = 15\n",
        "regparam = 0.2\n",
        "als = ALS(maxIter = maxiter, regParam = regparam, userCol=\"user\", itemCol=\"patron\", ratingCol=\"rating\",  coldStartStrategy=\"drop\")\n",
        "model = als.fit(training)\n",
        "\n",
        "# Testeamos con testing set\n",
        "predictions = model.transform(test)\n",
        "evaluator = RegressionEvaluator(metricName=\"rmse\", labelCol=\"rating\", predictionCol=\"prediction\")\n",
        "\n",
        "# Contabilizamos el error\n",
        "rmse = evaluator.evaluate(predictions)\n",
        "print(\"maxIter: \" + str(maxiter))\n",
        "print(\"regparam: \" + str(regparam))\n",
        "print(\"Root-mean-square error = \" + str(rmse))\n",
        "print(\"---------------------------\")\n",
        "(training, test) = df_ratings.randomSplit([0.8, 0.2])\n",
        "# Entrenamos con training set\n",
        "maxiter = 10\n",
        "regparam = 0.15\n",
        "als = ALS(maxIter = maxiter, regParam = regparam, userCol=\"user\", itemCol=\"patron\", ratingCol=\"rating\",  coldStartStrategy=\"drop\")\n",
        "model = als.fit(training)\n",
        "\n",
        "# Testeamos con testing set\n",
        "predictions = model.transform(test)\n",
        "evaluator = RegressionEvaluator(metricName=\"rmse\", labelCol=\"rating\", predictionCol=\"prediction\")\n",
        "\n",
        "# Contabilizamos el error\n",
        "rmse = evaluator.evaluate(predictions)\n",
        "print(\"maxIter: \" + str(maxiter))\n",
        "print(\"regparam: \" + str(regparam))\n",
        "print(\"Root-mean-square error = \" + str(rmse))\n",
        "print(\"---------------------------\")\n",
        "(training, test) = df_ratings.randomSplit([0.8, 0.2])\n",
        "# Entrenamos con training set\n",
        "maxiter = 15\n",
        "regparam = 0.15\n",
        "als = ALS(maxIter = maxiter, regParam = regparam, userCol=\"user\", itemCol=\"patron\", ratingCol=\"rating\",  coldStartStrategy=\"drop\")\n",
        "model = als.fit(training)\n",
        "\n",
        "# Testeamos con testing set\n",
        "predictions = model.transform(test)\n",
        "evaluator = RegressionEvaluator(metricName=\"rmse\", labelCol=\"rating\", predictionCol=\"prediction\")\n",
        "\n",
        "# Contabilizamos el error\n",
        "rmse = evaluator.evaluate(predictions)\n",
        "print(\"maxIter: \" + str(maxiter))\n",
        "print(\"regparam: \" + str(regparam))\n",
        "print(\"Root-mean-square error = \" + str(rmse))\n",
        "print(\"---------------------------\")"
      ],
      "execution_count": 67,
      "outputs": [
        {
          "output_type": "stream",
          "text": [
            "maxIter: 10\n",
            "regparam: 0.2\n",
            "Root-mean-square error = 0.4536814977194677\n",
            "---------------------------\n",
            "maxIter: 15\n",
            "regparam: 0.2\n",
            "Root-mean-square error = 0.4338657937367147\n",
            "---------------------------\n",
            "maxIter: 10\n",
            "regparam: 0.15\n",
            "Root-mean-square error = 0.4634466397590094\n",
            "---------------------------\n",
            "maxIter: 15\n",
            "regparam: 0.15\n",
            "Root-mean-square error = 0.42562361635224844\n",
            "---------------------------\n",
            "CPU times: user 700 ms, sys: 214 ms, total: 915 ms\n",
            "Wall time: 4min 11s\n"
          ],
          "name": "stdout"
        }
      ]
    },
    {
      "cell_type": "code",
      "metadata": {
        "id": "ddPmnrU3k4B4",
        "colab_type": "code",
        "colab": {
          "base_uri": "https://localhost:8080/",
          "height": 146
        },
        "outputId": "ed39fb48-da47-4485-8f48-d45ba1cff062"
      },
      "source": [
        "(training, test) = df_ratings.randomSplit([0.8, 0.2])\n",
        "# Entrenamos con training set\n",
        "maxiter = 15\n",
        "regparam = 0.2\n",
        "als = ALS(maxIter = maxiter, regParam = regparam, userCol=\"user\", itemCol=\"patron\", ratingCol=\"rating\",  coldStartStrategy=\"drop\")\n",
        "model = als.fit(training)\n",
        "\n",
        "# Testeamos con testing set\n",
        "predictions = model.transform(test)\n",
        "evaluator = RegressionEvaluator(metricName=\"rmse\", labelCol=\"rating\", predictionCol=\"prediction\")\n",
        "\n",
        "# Contabilizamos el error\n",
        "rmse = evaluator.evaluate(predictions)\n",
        "print(\"maxIter: \" + str(maxiter))\n",
        "print(\"regparam: \" + str(regparam))\n",
        "print(\"Root-mean-square error = \" + str(rmse))\n",
        "print(\"---------------------------\")\n",
        "(training, test) = df_ratings.randomSplit([0.8, 0.2])\n",
        "# Entrenamos con training set\n",
        "maxiter = 15\n",
        "regparam = 0.15\n",
        "als = ALS(maxIter = maxiter, regParam = regparam, userCol=\"user\", itemCol=\"patron\", ratingCol=\"rating\",  coldStartStrategy=\"drop\")\n",
        "model = als.fit(training)\n",
        "\n",
        "# Testeamos con testing set\n",
        "predictions = model.transform(test)\n",
        "evaluator = RegressionEvaluator(metricName=\"rmse\", labelCol=\"rating\", predictionCol=\"prediction\")\n",
        "\n",
        "# Contabilizamos el error\n",
        "rmse = evaluator.evaluate(predictions)\n",
        "print(\"maxIter: \" + str(maxiter))\n",
        "print(\"regparam: \" + str(regparam))\n",
        "print(\"Root-mean-square error = \" + str(rmse))\n",
        "print(\"---------------------------\")"
      ],
      "execution_count": 68,
      "outputs": [
        {
          "output_type": "stream",
          "text": [
            "maxIter: 15\n",
            "regparam: 0.2\n",
            "Root-mean-square error = 0.43005082956632007\n",
            "---------------------------\n",
            "maxIter: 15\n",
            "regparam: 0.15\n",
            "Root-mean-square error = 0.42459314524283487\n"
          ],
          "name": "stdout"
        }
      ]
    },
    {
      "cell_type": "code",
      "metadata": {
        "id": "AS43zvBxltDg",
        "colab_type": "code",
        "colab": {
          "base_uri": "https://localhost:8080/",
          "height": 403
        },
        "outputId": "6d398c56-b38b-46aa-d6f6-69aaaec32337"
      },
      "source": [
        "print(\"---------------------------\")\n",
        "(training, test) = df_ratings.randomSplit([0.8, 0.2])\n",
        "# Entrenamos con training set\n",
        "maxiter = 15\n",
        "regparam = 0.18\n",
        "als = ALS(maxIter = maxiter, regParam = regparam, userCol=\"user\", itemCol=\"patron\", ratingCol=\"rating\",  coldStartStrategy=\"drop\")\n",
        "model = als.fit(training)\n",
        "\n",
        "# Testeamos con testing set\n",
        "predictions = model.transform(test)\n",
        "evaluator = RegressionEvaluator(metricName=\"rmse\", labelCol=\"rating\", predictionCol=\"prediction\")\n",
        "\n",
        "# Contabilizamos el error\n",
        "rmse = evaluator.evaluate(predictions)\n",
        "print(\"maxIter: \" + str(maxiter))\n",
        "print(\"regparam: \" + str(regparam))\n",
        "print(\"Root-mean-square error = \" + str(rmse))\n",
        "print(\"---------------------------\")\n",
        "\n",
        "(training, test) = df_ratings.randomSplit([0.8, 0.2])\n",
        "# Entrenamos con training set\n",
        "maxiter = 15\n",
        "regparam = 0.165\n",
        "als = ALS(maxIter = maxiter, regParam = regparam, userCol=\"user\", itemCol=\"patron\", ratingCol=\"rating\",  coldStartStrategy=\"drop\")\n",
        "model = als.fit(training)\n",
        "\n",
        "# Testeamos con testing set\n",
        "predictions = model.transform(test)\n",
        "evaluator = RegressionEvaluator(metricName=\"rmse\", labelCol=\"rating\", predictionCol=\"prediction\")\n",
        "\n",
        "# Contabilizamos el error\n",
        "rmse = evaluator.evaluate(predictions)\n",
        "print(\"maxIter: \" + str(maxiter))\n",
        "print(\"regparam: \" + str(regparam))\n",
        "print(\"Root-mean-square error = \" + str(rmse))\n",
        "print(\"---------------------------\")\n",
        "\n",
        "\n",
        "(training, test) = df_ratings.randomSplit([0.8, 0.2])\n",
        "# Entrenamos con training set\n",
        "maxiter = 15\n",
        "regparam = 0.185\n",
        "als = ALS(maxIter = maxiter, regParam = regparam, userCol=\"user\", itemCol=\"patron\", ratingCol=\"rating\",  coldStartStrategy=\"drop\")\n",
        "model = als.fit(training)\n",
        "\n",
        "# Testeamos con testing set\n",
        "predictions = model.transform(test)\n",
        "evaluator = RegressionEvaluator(metricName=\"rmse\", labelCol=\"rating\", predictionCol=\"prediction\")\n",
        "\n",
        "# Contabilizamos el error\n",
        "rmse = evaluator.evaluate(predictions)\n",
        "print(\"maxIter: \" + str(maxiter))\n",
        "print(\"regparam: \" + str(regparam))\n",
        "print(\"Root-mean-square error = \" + str(rmse))\n",
        "print(\"---------------------------\")\n",
        "\n",
        "\n",
        "(training, test) = df_ratings.randomSplit([0.8, 0.2])\n",
        "# Entrenamos con training set\n",
        "maxiter = 18\n",
        "regparam = 0.15\n",
        "als = ALS(maxIter = maxiter, regParam = regparam, userCol=\"user\", itemCol=\"patron\", ratingCol=\"rating\",  coldStartStrategy=\"drop\")\n",
        "model = als.fit(training)\n",
        "\n",
        "# Testeamos con testing set\n",
        "predictions = model.transform(test)\n",
        "evaluator = RegressionEvaluator(metricName=\"rmse\", labelCol=\"rating\", predictionCol=\"prediction\")\n",
        "\n",
        "# Contabilizamos el error\n",
        "rmse = evaluator.evaluate(predictions)\n",
        "print(\"maxIter: \" + str(maxiter))\n",
        "print(\"regparam: \" + str(regparam))\n",
        "print(\"Root-mean-square error = \" + str(rmse))\n",
        "print(\"---------------------------\")\n",
        "\n",
        "\n",
        "(training, test) = df_ratings.randomSplit([0.8, 0.2])\n",
        "# Entrenamos con training set\n",
        "maxiter = 20\n",
        "regparam = 0.15\n",
        "als = ALS(maxIter = maxiter, regParam = regparam, userCol=\"user\", itemCol=\"patron\", ratingCol=\"rating\",  coldStartStrategy=\"drop\")\n",
        "model = als.fit(training)\n",
        "\n",
        "# Testeamos con testing set\n",
        "predictions = model.transform(test)\n",
        "evaluator = RegressionEvaluator(metricName=\"rmse\", labelCol=\"rating\", predictionCol=\"prediction\")\n",
        "\n",
        "# Contabilizamos el error\n",
        "rmse = evaluator.evaluate(predictions)\n",
        "print(\"maxIter: \" + str(maxiter))\n",
        "print(\"regparam: \" + str(regparam))\n",
        "print(\"Root-mean-square error = \" + str(rmse))\n",
        "print(\"---------------------------\")"
      ],
      "execution_count": 69,
      "outputs": [
        {
          "output_type": "stream",
          "text": [
            "---------------------------\n",
            "maxIter: 15\n",
            "regparam: 0.18\n",
            "Root-mean-square error = 0.4267298184291346\n",
            "---------------------------\n",
            "maxIter: 15\n",
            "regparam: 0.165\n",
            "Root-mean-square error = 0.42405806957517195\n",
            "---------------------------\n",
            "maxIter: 15\n",
            "regparam: 0.185\n",
            "Root-mean-square error = 0.4273286763024749\n",
            "---------------------------\n",
            "maxIter: 18\n",
            "regparam: 0.15\n",
            "Root-mean-square error = 0.41893237427984764\n",
            "---------------------------\n",
            "maxIter: 20\n",
            "regparam: 0.15\n",
            "Root-mean-square error = 0.4131788905707953\n",
            "---------------------------\n"
          ],
          "name": "stdout"
        }
      ]
    },
    {
      "cell_type": "code",
      "metadata": {
        "id": "oYjUKe6No-y7",
        "colab_type": "code",
        "colab": {
          "base_uri": "https://localhost:8080/",
          "height": 784
        },
        "outputId": "70768bde-e749-4457-d240-a7c7f0bcce24"
      },
      "source": [
        "print(\"---------------------------\")\n",
        "\n",
        "\n",
        "(training, test) = df_ratings.randomSplit([0.8, 0.2])\n",
        "# Entrenamos con training set\n",
        "maxiter = 5\n",
        "regparam = 0.15\n",
        "als = ALS(maxIter = maxiter, regParam = regparam, userCol=\"user\", itemCol=\"patron\", ratingCol=\"rating\",  coldStartStrategy=\"drop\")\n",
        "model = als.fit(training)\n",
        "\n",
        "# Testeamos con testing set\n",
        "predictions = model.transform(test)\n",
        "evaluator = RegressionEvaluator(metricName=\"rmse\", labelCol=\"rating\", predictionCol=\"prediction\")\n",
        "\n",
        "# Contabilizamos el error\n",
        "rmse = evaluator.evaluate(predictions)\n",
        "print(\"maxIter: \" + str(maxiter))\n",
        "print(\"regparam: \" + str(regparam))\n",
        "print(\"Root-mean-square error = \" + str(rmse))\n",
        "print(\"---------------------------\")\n",
        "\n",
        "(training, test) = df_ratings.randomSplit([0.8, 0.2])\n",
        "# Entrenamos con training set\n",
        "maxiter = 25\n",
        "regparam = 0.15\n",
        "als = ALS(maxIter = maxiter, regParam = regparam, userCol=\"user\", itemCol=\"patron\", ratingCol=\"rating\",  coldStartStrategy=\"drop\")\n",
        "model = als.fit(training)\n",
        "\n",
        "# Testeamos con testing set\n",
        "predictions = model.transform(test)\n",
        "evaluator = RegressionEvaluator(metricName=\"rmse\", labelCol=\"rating\", predictionCol=\"prediction\")\n",
        "\n",
        "# Contabilizamos el error\n",
        "rmse = evaluator.evaluate(predictions)\n",
        "print(\"maxIter: \" + str(maxiter))\n",
        "print(\"regparam: \" + str(regparam))\n",
        "print(\"Root-mean-square error = \" + str(rmse))\n",
        "print(\"---------------------------\")\n",
        "\n",
        "(training, test) = df_ratings.randomSplit([0.8, 0.2])\n",
        "# Entrenamos con training set\n",
        "maxiter = 20\n",
        "regparam = 0.135\n",
        "als = ALS(maxIter = maxiter, regParam = regparam, userCol=\"user\", itemCol=\"patron\", ratingCol=\"rating\",  coldStartStrategy=\"drop\")\n",
        "model = als.fit(training)\n",
        "\n",
        "# Testeamos con testing set\n",
        "predictions = model.transform(test)\n",
        "evaluator = RegressionEvaluator(metricName=\"rmse\", labelCol=\"rating\", predictionCol=\"prediction\")\n",
        "\n",
        "# Contabilizamos el error\n",
        "rmse = evaluator.evaluate(predictions)\n",
        "print(\"maxIter: \" + str(maxiter))\n",
        "print(\"regparam: \" + str(regparam))\n",
        "print(\"Root-mean-square error = \" + str(rmse))\n",
        "print(\"---------------------------\")"
      ],
      "execution_count": 77,
      "outputs": [
        {
          "output_type": "stream",
          "text": [
            "ERROR:py4j.java_gateway:An error occurred while trying to connect to the Java server (127.0.0.1:42971)\n",
            "Traceback (most recent call last):\n",
            "  File \"/usr/local/lib/python3.6/dist-packages/py4j/java_gateway.py\", line 929, in _get_connection\n",
            "    connection = self.deque.pop()\n",
            "IndexError: pop from an empty deque\n",
            "\n",
            "During handling of the above exception, another exception occurred:\n",
            "\n",
            "Traceback (most recent call last):\n",
            "  File \"/usr/local/lib/python3.6/dist-packages/py4j/java_gateway.py\", line 1067, in start\n",
            "    self.socket.connect((self.address, self.port))\n",
            "ConnectionRefusedError: [Errno 111] Connection refused\n"
          ],
          "name": "stderr"
        },
        {
          "output_type": "stream",
          "text": [
            "---------------------------\n"
          ],
          "name": "stdout"
        },
        {
          "output_type": "error",
          "ename": "Py4JNetworkError",
          "evalue": "ignored",
          "traceback": [
            "\u001b[0;31m---------------------------------------------------------------------------\u001b[0m",
            "\u001b[0;31mIndexError\u001b[0m                                Traceback (most recent call last)",
            "\u001b[0;32m/usr/local/lib/python3.6/dist-packages/py4j/java_gateway.py\u001b[0m in \u001b[0;36m_get_connection\u001b[0;34m(self)\u001b[0m\n\u001b[1;32m    928\u001b[0m         \u001b[0;32mtry\u001b[0m\u001b[0;34m:\u001b[0m\u001b[0;34m\u001b[0m\u001b[0;34m\u001b[0m\u001b[0m\n\u001b[0;32m--> 929\u001b[0;31m             \u001b[0mconnection\u001b[0m \u001b[0;34m=\u001b[0m \u001b[0mself\u001b[0m\u001b[0;34m.\u001b[0m\u001b[0mdeque\u001b[0m\u001b[0;34m.\u001b[0m\u001b[0mpop\u001b[0m\u001b[0;34m(\u001b[0m\u001b[0;34m)\u001b[0m\u001b[0;34m\u001b[0m\u001b[0;34m\u001b[0m\u001b[0m\n\u001b[0m\u001b[1;32m    930\u001b[0m         \u001b[0;32mexcept\u001b[0m \u001b[0mIndexError\u001b[0m\u001b[0;34m:\u001b[0m\u001b[0;34m\u001b[0m\u001b[0;34m\u001b[0m\u001b[0m\n",
            "\u001b[0;31mIndexError\u001b[0m: pop from an empty deque",
            "\nDuring handling of the above exception, another exception occurred:\n",
            "\u001b[0;31mConnectionRefusedError\u001b[0m                    Traceback (most recent call last)",
            "\u001b[0;32m/usr/local/lib/python3.6/dist-packages/py4j/java_gateway.py\u001b[0m in \u001b[0;36mstart\u001b[0;34m(self)\u001b[0m\n\u001b[1;32m   1066\u001b[0m         \u001b[0;32mtry\u001b[0m\u001b[0;34m:\u001b[0m\u001b[0;34m\u001b[0m\u001b[0;34m\u001b[0m\u001b[0m\n\u001b[0;32m-> 1067\u001b[0;31m             \u001b[0mself\u001b[0m\u001b[0;34m.\u001b[0m\u001b[0msocket\u001b[0m\u001b[0;34m.\u001b[0m\u001b[0mconnect\u001b[0m\u001b[0;34m(\u001b[0m\u001b[0;34m(\u001b[0m\u001b[0mself\u001b[0m\u001b[0;34m.\u001b[0m\u001b[0maddress\u001b[0m\u001b[0;34m,\u001b[0m \u001b[0mself\u001b[0m\u001b[0;34m.\u001b[0m\u001b[0mport\u001b[0m\u001b[0;34m)\u001b[0m\u001b[0;34m)\u001b[0m\u001b[0;34m\u001b[0m\u001b[0;34m\u001b[0m\u001b[0m\n\u001b[0m\u001b[1;32m   1068\u001b[0m             \u001b[0mself\u001b[0m\u001b[0;34m.\u001b[0m\u001b[0mstream\u001b[0m \u001b[0;34m=\u001b[0m \u001b[0mself\u001b[0m\u001b[0;34m.\u001b[0m\u001b[0msocket\u001b[0m\u001b[0;34m.\u001b[0m\u001b[0mmakefile\u001b[0m\u001b[0;34m(\u001b[0m\u001b[0;34m\"rb\"\u001b[0m\u001b[0;34m)\u001b[0m\u001b[0;34m\u001b[0m\u001b[0;34m\u001b[0m\u001b[0m\n",
            "\u001b[0;31mConnectionRefusedError\u001b[0m: [Errno 111] Connection refused",
            "\nDuring handling of the above exception, another exception occurred:\n",
            "\u001b[0;31mPy4JNetworkError\u001b[0m                          Traceback (most recent call last)",
            "\u001b[0;32m<ipython-input-77-3072cf9ff9f2>\u001b[0m in \u001b[0;36m<module>\u001b[0;34m()\u001b[0m\n\u001b[1;32m      2\u001b[0m \u001b[0;34m\u001b[0m\u001b[0m\n\u001b[1;32m      3\u001b[0m \u001b[0;34m\u001b[0m\u001b[0m\n\u001b[0;32m----> 4\u001b[0;31m \u001b[0;34m(\u001b[0m\u001b[0mtraining\u001b[0m\u001b[0;34m,\u001b[0m \u001b[0mtest\u001b[0m\u001b[0;34m)\u001b[0m \u001b[0;34m=\u001b[0m \u001b[0mdf_ratings\u001b[0m\u001b[0;34m.\u001b[0m\u001b[0mrandomSplit\u001b[0m\u001b[0;34m(\u001b[0m\u001b[0;34m[\u001b[0m\u001b[0;36m0.8\u001b[0m\u001b[0;34m,\u001b[0m \u001b[0;36m0.2\u001b[0m\u001b[0;34m]\u001b[0m\u001b[0;34m)\u001b[0m\u001b[0;34m\u001b[0m\u001b[0;34m\u001b[0m\u001b[0m\n\u001b[0m\u001b[1;32m      5\u001b[0m \u001b[0;31m# Entrenamos con training set\u001b[0m\u001b[0;34m\u001b[0m\u001b[0;34m\u001b[0m\u001b[0;34m\u001b[0m\u001b[0m\n\u001b[1;32m      6\u001b[0m \u001b[0mmaxiter\u001b[0m \u001b[0;34m=\u001b[0m \u001b[0;36m5\u001b[0m\u001b[0;34m\u001b[0m\u001b[0;34m\u001b[0m\u001b[0m\n",
            "\u001b[0;32m/usr/local/lib/python3.6/dist-packages/pyspark/sql/dataframe.py\u001b[0m in \u001b[0;36mrandomSplit\u001b[0;34m(self, weights, seed)\u001b[0m\n\u001b[1;32m    916\u001b[0m                 \u001b[0;32mraise\u001b[0m \u001b[0mValueError\u001b[0m\u001b[0;34m(\u001b[0m\u001b[0;34m\"Weights must be positive. Found weight value: %s\"\u001b[0m \u001b[0;34m%\u001b[0m \u001b[0mw\u001b[0m\u001b[0;34m)\u001b[0m\u001b[0;34m\u001b[0m\u001b[0;34m\u001b[0m\u001b[0m\n\u001b[1;32m    917\u001b[0m         \u001b[0mseed\u001b[0m \u001b[0;34m=\u001b[0m \u001b[0mseed\u001b[0m \u001b[0;32mif\u001b[0m \u001b[0mseed\u001b[0m \u001b[0;32mis\u001b[0m \u001b[0;32mnot\u001b[0m \u001b[0;32mNone\u001b[0m \u001b[0;32melse\u001b[0m \u001b[0mrandom\u001b[0m\u001b[0;34m.\u001b[0m\u001b[0mrandint\u001b[0m\u001b[0;34m(\u001b[0m\u001b[0;36m0\u001b[0m\u001b[0;34m,\u001b[0m \u001b[0msys\u001b[0m\u001b[0;34m.\u001b[0m\u001b[0mmaxsize\u001b[0m\u001b[0;34m)\u001b[0m\u001b[0;34m\u001b[0m\u001b[0;34m\u001b[0m\u001b[0m\n\u001b[0;32m--> 918\u001b[0;31m         \u001b[0mrdd_array\u001b[0m \u001b[0;34m=\u001b[0m \u001b[0mself\u001b[0m\u001b[0;34m.\u001b[0m\u001b[0m_jdf\u001b[0m\u001b[0;34m.\u001b[0m\u001b[0mrandomSplit\u001b[0m\u001b[0;34m(\u001b[0m\u001b[0m_to_list\u001b[0m\u001b[0;34m(\u001b[0m\u001b[0mself\u001b[0m\u001b[0;34m.\u001b[0m\u001b[0msql_ctx\u001b[0m\u001b[0;34m.\u001b[0m\u001b[0m_sc\u001b[0m\u001b[0;34m,\u001b[0m \u001b[0mweights\u001b[0m\u001b[0;34m)\u001b[0m\u001b[0;34m,\u001b[0m \u001b[0mlong\u001b[0m\u001b[0;34m(\u001b[0m\u001b[0mseed\u001b[0m\u001b[0;34m)\u001b[0m\u001b[0;34m)\u001b[0m\u001b[0;34m\u001b[0m\u001b[0;34m\u001b[0m\u001b[0m\n\u001b[0m\u001b[1;32m    919\u001b[0m         \u001b[0;32mreturn\u001b[0m \u001b[0;34m[\u001b[0m\u001b[0mDataFrame\u001b[0m\u001b[0;34m(\u001b[0m\u001b[0mrdd\u001b[0m\u001b[0;34m,\u001b[0m \u001b[0mself\u001b[0m\u001b[0;34m.\u001b[0m\u001b[0msql_ctx\u001b[0m\u001b[0;34m)\u001b[0m \u001b[0;32mfor\u001b[0m \u001b[0mrdd\u001b[0m \u001b[0;32min\u001b[0m \u001b[0mrdd_array\u001b[0m\u001b[0;34m]\u001b[0m\u001b[0;34m\u001b[0m\u001b[0;34m\u001b[0m\u001b[0m\n\u001b[1;32m    920\u001b[0m \u001b[0;34m\u001b[0m\u001b[0m\n",
            "\u001b[0;32m/usr/local/lib/python3.6/dist-packages/pyspark/sql/column.py\u001b[0m in \u001b[0;36m_to_list\u001b[0;34m(sc, cols, converter)\u001b[0m\n\u001b[1;32m     76\u001b[0m     \u001b[0;32mif\u001b[0m \u001b[0mconverter\u001b[0m\u001b[0;34m:\u001b[0m\u001b[0;34m\u001b[0m\u001b[0;34m\u001b[0m\u001b[0m\n\u001b[1;32m     77\u001b[0m         \u001b[0mcols\u001b[0m \u001b[0;34m=\u001b[0m \u001b[0;34m[\u001b[0m\u001b[0mconverter\u001b[0m\u001b[0;34m(\u001b[0m\u001b[0mc\u001b[0m\u001b[0;34m)\u001b[0m \u001b[0;32mfor\u001b[0m \u001b[0mc\u001b[0m \u001b[0;32min\u001b[0m \u001b[0mcols\u001b[0m\u001b[0;34m]\u001b[0m\u001b[0;34m\u001b[0m\u001b[0;34m\u001b[0m\u001b[0m\n\u001b[0;32m---> 78\u001b[0;31m     \u001b[0;32mreturn\u001b[0m \u001b[0msc\u001b[0m\u001b[0;34m.\u001b[0m\u001b[0m_jvm\u001b[0m\u001b[0;34m.\u001b[0m\u001b[0mPythonUtils\u001b[0m\u001b[0;34m.\u001b[0m\u001b[0mtoList\u001b[0m\u001b[0;34m(\u001b[0m\u001b[0mcols\u001b[0m\u001b[0;34m)\u001b[0m\u001b[0;34m\u001b[0m\u001b[0;34m\u001b[0m\u001b[0m\n\u001b[0m\u001b[1;32m     79\u001b[0m \u001b[0;34m\u001b[0m\u001b[0m\n\u001b[1;32m     80\u001b[0m \u001b[0;34m\u001b[0m\u001b[0m\n",
            "\u001b[0;32m/usr/local/lib/python3.6/dist-packages/py4j/java_gateway.py\u001b[0m in \u001b[0;36m__getattr__\u001b[0;34m(self, name)\u001b[0m\n\u001b[1;32m   1647\u001b[0m             \u001b[0mproto\u001b[0m\u001b[0;34m.\u001b[0m\u001b[0mREFLECTION_COMMAND_NAME\u001b[0m \u001b[0;34m+\u001b[0m\u001b[0;34m\u001b[0m\u001b[0;34m\u001b[0m\u001b[0m\n\u001b[1;32m   1648\u001b[0m             \u001b[0mproto\u001b[0m\u001b[0;34m.\u001b[0m\u001b[0mREFL_GET_UNKNOWN_SUB_COMMAND_NAME\u001b[0m \u001b[0;34m+\u001b[0m \u001b[0mname\u001b[0m \u001b[0;34m+\u001b[0m \u001b[0;34m\"\\n\"\u001b[0m \u001b[0;34m+\u001b[0m \u001b[0mself\u001b[0m\u001b[0;34m.\u001b[0m\u001b[0m_id\u001b[0m \u001b[0;34m+\u001b[0m\u001b[0;34m\u001b[0m\u001b[0;34m\u001b[0m\u001b[0m\n\u001b[0;32m-> 1649\u001b[0;31m             \"\\n\" + proto.END_COMMAND_PART)\n\u001b[0m\u001b[1;32m   1650\u001b[0m         \u001b[0;32mif\u001b[0m \u001b[0manswer\u001b[0m \u001b[0;34m==\u001b[0m \u001b[0mproto\u001b[0m\u001b[0;34m.\u001b[0m\u001b[0mSUCCESS_PACKAGE\u001b[0m\u001b[0;34m:\u001b[0m\u001b[0;34m\u001b[0m\u001b[0;34m\u001b[0m\u001b[0m\n\u001b[1;32m   1651\u001b[0m             \u001b[0;32mreturn\u001b[0m \u001b[0mJavaPackage\u001b[0m\u001b[0;34m(\u001b[0m\u001b[0mname\u001b[0m\u001b[0;34m,\u001b[0m \u001b[0mself\u001b[0m\u001b[0;34m.\u001b[0m\u001b[0m_gateway_client\u001b[0m\u001b[0;34m,\u001b[0m \u001b[0mjvm_id\u001b[0m\u001b[0;34m=\u001b[0m\u001b[0mself\u001b[0m\u001b[0;34m.\u001b[0m\u001b[0m_id\u001b[0m\u001b[0;34m)\u001b[0m\u001b[0;34m\u001b[0m\u001b[0;34m\u001b[0m\u001b[0m\n",
            "\u001b[0;32m/usr/local/lib/python3.6/dist-packages/py4j/java_gateway.py\u001b[0m in \u001b[0;36msend_command\u001b[0;34m(self, command, retry, binary)\u001b[0m\n\u001b[1;32m    981\u001b[0m          \u001b[0;32mif\u001b[0m\u001b[0;31m \u001b[0m\u001b[0;31m`\u001b[0m\u001b[0mbinary\u001b[0m\u001b[0;31m`\u001b[0m \u001b[0;32mis\u001b[0m\u001b[0;31m \u001b[0m\u001b[0;31m`\u001b[0m\u001b[0;32mTrue\u001b[0m\u001b[0;31m`\u001b[0m\u001b[0;34m.\u001b[0m\u001b[0;34m\u001b[0m\u001b[0;34m\u001b[0m\u001b[0m\n\u001b[1;32m    982\u001b[0m         \"\"\"\n\u001b[0;32m--> 983\u001b[0;31m         \u001b[0mconnection\u001b[0m \u001b[0;34m=\u001b[0m \u001b[0mself\u001b[0m\u001b[0;34m.\u001b[0m\u001b[0m_get_connection\u001b[0m\u001b[0;34m(\u001b[0m\u001b[0;34m)\u001b[0m\u001b[0;34m\u001b[0m\u001b[0;34m\u001b[0m\u001b[0m\n\u001b[0m\u001b[1;32m    984\u001b[0m         \u001b[0;32mtry\u001b[0m\u001b[0;34m:\u001b[0m\u001b[0;34m\u001b[0m\u001b[0;34m\u001b[0m\u001b[0m\n\u001b[1;32m    985\u001b[0m             \u001b[0mresponse\u001b[0m \u001b[0;34m=\u001b[0m \u001b[0mconnection\u001b[0m\u001b[0;34m.\u001b[0m\u001b[0msend_command\u001b[0m\u001b[0;34m(\u001b[0m\u001b[0mcommand\u001b[0m\u001b[0;34m)\u001b[0m\u001b[0;34m\u001b[0m\u001b[0;34m\u001b[0m\u001b[0m\n",
            "\u001b[0;32m/usr/local/lib/python3.6/dist-packages/py4j/java_gateway.py\u001b[0m in \u001b[0;36m_get_connection\u001b[0;34m(self)\u001b[0m\n\u001b[1;32m    929\u001b[0m             \u001b[0mconnection\u001b[0m \u001b[0;34m=\u001b[0m \u001b[0mself\u001b[0m\u001b[0;34m.\u001b[0m\u001b[0mdeque\u001b[0m\u001b[0;34m.\u001b[0m\u001b[0mpop\u001b[0m\u001b[0;34m(\u001b[0m\u001b[0;34m)\u001b[0m\u001b[0;34m\u001b[0m\u001b[0;34m\u001b[0m\u001b[0m\n\u001b[1;32m    930\u001b[0m         \u001b[0;32mexcept\u001b[0m \u001b[0mIndexError\u001b[0m\u001b[0;34m:\u001b[0m\u001b[0;34m\u001b[0m\u001b[0;34m\u001b[0m\u001b[0m\n\u001b[0;32m--> 931\u001b[0;31m             \u001b[0mconnection\u001b[0m \u001b[0;34m=\u001b[0m \u001b[0mself\u001b[0m\u001b[0;34m.\u001b[0m\u001b[0m_create_connection\u001b[0m\u001b[0;34m(\u001b[0m\u001b[0;34m)\u001b[0m\u001b[0;34m\u001b[0m\u001b[0;34m\u001b[0m\u001b[0m\n\u001b[0m\u001b[1;32m    932\u001b[0m         \u001b[0;32mreturn\u001b[0m \u001b[0mconnection\u001b[0m\u001b[0;34m\u001b[0m\u001b[0;34m\u001b[0m\u001b[0m\n\u001b[1;32m    933\u001b[0m \u001b[0;34m\u001b[0m\u001b[0m\n",
            "\u001b[0;32m/usr/local/lib/python3.6/dist-packages/py4j/java_gateway.py\u001b[0m in \u001b[0;36m_create_connection\u001b[0;34m(self)\u001b[0m\n\u001b[1;32m    935\u001b[0m         connection = GatewayConnection(\n\u001b[1;32m    936\u001b[0m             self.gateway_parameters, self.gateway_property)\n\u001b[0;32m--> 937\u001b[0;31m         \u001b[0mconnection\u001b[0m\u001b[0;34m.\u001b[0m\u001b[0mstart\u001b[0m\u001b[0;34m(\u001b[0m\u001b[0;34m)\u001b[0m\u001b[0;34m\u001b[0m\u001b[0;34m\u001b[0m\u001b[0m\n\u001b[0m\u001b[1;32m    938\u001b[0m         \u001b[0;32mreturn\u001b[0m \u001b[0mconnection\u001b[0m\u001b[0;34m\u001b[0m\u001b[0;34m\u001b[0m\u001b[0m\n\u001b[1;32m    939\u001b[0m \u001b[0;34m\u001b[0m\u001b[0m\n",
            "\u001b[0;32m/usr/local/lib/python3.6/dist-packages/py4j/java_gateway.py\u001b[0m in \u001b[0;36mstart\u001b[0;34m(self)\u001b[0m\n\u001b[1;32m   1077\u001b[0m                 \u001b[0;34m\"server ({0}:{1})\"\u001b[0m\u001b[0;34m.\u001b[0m\u001b[0mformat\u001b[0m\u001b[0;34m(\u001b[0m\u001b[0mself\u001b[0m\u001b[0;34m.\u001b[0m\u001b[0maddress\u001b[0m\u001b[0;34m,\u001b[0m \u001b[0mself\u001b[0m\u001b[0;34m.\u001b[0m\u001b[0mport\u001b[0m\u001b[0;34m)\u001b[0m\u001b[0;34m\u001b[0m\u001b[0;34m\u001b[0m\u001b[0m\n\u001b[1;32m   1078\u001b[0m             \u001b[0mlogger\u001b[0m\u001b[0;34m.\u001b[0m\u001b[0mexception\u001b[0m\u001b[0;34m(\u001b[0m\u001b[0mmsg\u001b[0m\u001b[0;34m)\u001b[0m\u001b[0;34m\u001b[0m\u001b[0;34m\u001b[0m\u001b[0m\n\u001b[0;32m-> 1079\u001b[0;31m             \u001b[0;32mraise\u001b[0m \u001b[0mPy4JNetworkError\u001b[0m\u001b[0;34m(\u001b[0m\u001b[0mmsg\u001b[0m\u001b[0;34m,\u001b[0m \u001b[0me\u001b[0m\u001b[0;34m)\u001b[0m\u001b[0;34m\u001b[0m\u001b[0;34m\u001b[0m\u001b[0m\n\u001b[0m\u001b[1;32m   1080\u001b[0m \u001b[0;34m\u001b[0m\u001b[0m\n\u001b[1;32m   1081\u001b[0m     \u001b[0;32mdef\u001b[0m \u001b[0m_authenticate_connection\u001b[0m\u001b[0;34m(\u001b[0m\u001b[0mself\u001b[0m\u001b[0;34m)\u001b[0m\u001b[0;34m:\u001b[0m\u001b[0;34m\u001b[0m\u001b[0;34m\u001b[0m\u001b[0m\n",
            "\u001b[0;31mPy4JNetworkError\u001b[0m: An error occurred while trying to connect to the Java server (127.0.0.1:42971)"
          ]
        }
      ]
    },
    {
      "cell_type": "markdown",
      "metadata": {
        "id": "EurIgDLle8ra",
        "colab_type": "text"
      },
      "source": [
        "\n",
        "BUSCAR PATRONES QUE SIGAN CON STOCK EN WEB PARA MOSTRAR EL LINK A LA PÁGINA WEB\n",
        "\n",
        "VOLVER A CRUZAR LOS RESULTADOS CON PDPAT, INCLUIR EXTERNAMENTE OTRO DF CON UNA DESCRIPCIÓN MEJOR DEL PATRÓN\n",
        "\n",
        "\n",
        "EMPEZAR CON SCORES\n",
        "\n",
        "PENSAR EN ESTRUCTURACIÓN DE TFM Y PRESENTACIÓN\n"
      ]
    }
  ]
}